{
 "cells": [
  {
   "cell_type": "markdown",
   "metadata": {
    "colab_type": "text",
    "id": "w1ucz2JDgIlL"
   },
   "source": [
    "# About the notebook\n",
    "- title: \"BIOS824 Case Studies HW02\"\n",
    "- author: \"Kuei-Yueh Ko\"\n"
   ]
  },
  {
   "cell_type": "code",
   "execution_count": 1,
   "metadata": {
    "colab": {
     "base_uri": "https://localhost:8080/",
     "height": 34
    },
    "colab_type": "code",
    "executionInfo": {
     "elapsed": 1813,
     "status": "ok",
     "timestamp": 1548374127738,
     "user": {
      "displayName": "柯逵悅",
      "photoUrl": "https://lh5.googleusercontent.com/-M0ECjlFPaa8/AAAAAAAAAAI/AAAAAAAAAkk/dheIQ4ShHHg/s64/photo.jpg",
      "userId": "07101215254269543390"
     },
     "user_tz": 300
    },
    "id": "Hr08b3qjgefI",
    "outputId": "60c6ff52-7004-48e9-9c4b-88ed8104f329"
   },
   "outputs": [
    {
     "name": "stderr",
     "output_type": "stream",
     "text": [
      "/opt/anaconda3/lib/python3.6/site-packages/h5py/__init__.py:36: FutureWarning: Conversion of the second argument of issubdtype from `float` to `np.floating` is deprecated. In future, it will be treated as `np.float64 == np.dtype(float).type`.\n",
      "  from ._conv import register_converters as _register_converters\n",
      "Using TensorFlow backend.\n"
     ]
    }
   ],
   "source": [
    "### library: basic\n",
    "import numpy as np\n",
    "\n",
    "### library: keras\n",
    "import keras\n",
    "from keras.datasets import mnist\n",
    "from keras.models import Sequential\n",
    "from keras.layers import Dense, Dropout, Flatten\n",
    "from keras.layers import Conv2D, MaxPooling2D\n",
    "from keras import backend as K\n",
    "\n",
    "### library: reading images\n",
    "from keras import applications\n",
    "from keras.preprocessing import image\n",
    "\n",
    "### library: plotting\n",
    "import matplotlib.pyplot as plt\n",
    "\n",
    "### helper function\n",
    "head = lambda x, n = 6: x[:n]\n",
    "tail = lambda x, n = 6: x[-n:]"
   ]
  },
  {
   "cell_type": "markdown",
   "metadata": {
    "colab_type": "text",
    "id": "GHmNnN1Th7y0"
   },
   "source": [
    "**set directory**"
   ]
  },
  {
   "cell_type": "code",
   "execution_count": 2,
   "metadata": {
    "colab": {
     "base_uri": "https://localhost:8080/",
     "height": 258
    },
    "colab_type": "code",
    "executionInfo": {
     "elapsed": 30861,
     "status": "ok",
     "timestamp": 1548374156839,
     "user": {
      "displayName": "柯逵悅",
      "photoUrl": "https://lh5.googleusercontent.com/-M0ECjlFPaa8/AAAAAAAAAAI/AAAAAAAAAkk/dheIQ4ShHHg/s64/photo.jpg",
      "userId": "07101215254269543390"
     },
     "user_tz": 300
    },
    "id": "SOOHzScbh7Tu",
    "outputId": "558ebed1-f734-4982-c2fe-b9db66de8edb"
   },
   "outputs": [
    {
     "ename": "ModuleNotFoundError",
     "evalue": "No module named 'google.colab'",
     "output_type": "error",
     "traceback": [
      "\u001b[0;31m---------------------------------------------------------------------------\u001b[0m",
      "\u001b[0;31mModuleNotFoundError\u001b[0m                       Traceback (most recent call last)",
      "\u001b[0;32m<ipython-input-2-5769946cca7e>\u001b[0m in \u001b[0;36m<module>\u001b[0;34m()\u001b[0m\n\u001b[1;32m      1\u001b[0m \u001b[0;31m### Mounting google drive\u001b[0m\u001b[0;34m\u001b[0m\u001b[0;34m\u001b[0m\u001b[0m\n\u001b[0;32m----> 2\u001b[0;31m \u001b[0;32mfrom\u001b[0m \u001b[0mgoogle\u001b[0m\u001b[0;34m.\u001b[0m\u001b[0mcolab\u001b[0m \u001b[0;32mimport\u001b[0m \u001b[0mdrive\u001b[0m\u001b[0;34m\u001b[0m\u001b[0m\n\u001b[0m\u001b[1;32m      3\u001b[0m \u001b[0mdrive\u001b[0m\u001b[0;34m.\u001b[0m\u001b[0mmount\u001b[0m\u001b[0;34m(\u001b[0m\u001b[0;34m'/content/gdrive'\u001b[0m\u001b[0;34m)\u001b[0m\u001b[0;34m\u001b[0m\u001b[0m\n\u001b[1;32m      4\u001b[0m \u001b[0;34m\u001b[0m\u001b[0m\n\u001b[1;32m      5\u001b[0m \u001b[0mget_ipython\u001b[0m\u001b[0;34m(\u001b[0m\u001b[0;34m)\u001b[0m\u001b[0;34m.\u001b[0m\u001b[0mrun_line_magic\u001b[0m\u001b[0;34m(\u001b[0m\u001b[0;34m'cd'\u001b[0m\u001b[0;34m,\u001b[0m \u001b[0;34m'\"/content/gdrive/My Drive/Colab Notebooks/Duke_BIOS824_CaseStudies\"'\u001b[0m\u001b[0;34m)\u001b[0m\u001b[0;34m\u001b[0m\u001b[0m\n",
      "\u001b[0;31mModuleNotFoundError\u001b[0m: No module named 'google.colab'"
     ]
    }
   ],
   "source": [
    "### Mounting google drive\n",
    "from google.colab import drive\n",
    "drive.mount('/content/gdrive')\n",
    "\n",
    "%cd \"/content/gdrive/My Drive/Colab Notebooks/Duke_BIOS824_CaseStudies\"\n",
    "!pwd\n",
    "!ls"
   ]
  },
  {
   "cell_type": "markdown",
   "metadata": {
    "colab_type": "text",
    "id": "HFZcOCQigecm"
   },
   "source": [
    "-----"
   ]
  },
  {
   "cell_type": "markdown",
   "metadata": {
    "colab_type": "text",
    "id": "WaDnWyhOgeaG"
   },
   "source": [
    "# Load MNIST data and preprocess\n",
    "The MNIST data can be loaded from Keras datasets."
   ]
  },
  {
   "cell_type": "markdown",
   "metadata": {
    "colab_type": "text",
    "id": "JAP6HsCtqBnC"
   },
   "source": [
    "**Load MNIST data and preprocess images**"
   ]
  },
  {
   "cell_type": "code",
   "execution_count": 3,
   "metadata": {
    "colab": {
     "base_uri": "https://localhost:8080/",
     "height": 119
    },
    "colab_type": "code",
    "executionInfo": {
     "elapsed": 2398,
     "status": "ok",
     "timestamp": 1548374166603,
     "user": {
      "displayName": "柯逵悅",
      "photoUrl": "https://lh5.googleusercontent.com/-M0ECjlFPaa8/AAAAAAAAAAI/AAAAAAAAAkk/dheIQ4ShHHg/s64/photo.jpg",
      "userId": "07101215254269543390"
     },
     "user_tz": 300
    },
    "id": "QoKbD4fNgeXk",
    "outputId": "1e3a3add-9d91-4cd8-abdf-ec88b2b58a4d"
   },
   "outputs": [
    {
     "name": "stdout",
     "output_type": "stream",
     "text": [
      "X_train: (60000, 28, 28, 1)\n",
      "y_train: (60000,)\n",
      "X_test:  (10000, 28, 28, 1)\n",
      "y_test:  (10000,)\n"
     ]
    }
   ],
   "source": [
    "### input image dimensions\n",
    "img_rows, img_cols = 28, 28\n",
    "\n",
    "### the data, split between train and test sets\n",
    "(x_train, y_train), (x_test, y_test) = mnist.load_data()\n",
    "x_train = x_train.astype('float32')\n",
    "x_test  = x_test.astype('float32')\n",
    "x_train /= 255\n",
    "x_test  /= 255\n",
    "\n",
    "### Add Channel Dimension\n",
    "### (N, 28, 28) -> (N, 28, 28, 1)\n",
    "### (N, 28, 28) -> (N, 1, 28, 28)\n",
    "if K.image_data_format() == 'channels_first':\n",
    "    x_train = x_train.reshape(x_train.shape[0], 1, img_rows, img_cols)\n",
    "    x_test = x_test.reshape(x_test.shape[0], 1, img_rows, img_cols)\n",
    "    input_shape = (1, img_rows, img_cols)\n",
    "else:\n",
    "    x_train = x_train.reshape(x_train.shape[0], img_rows, img_cols, 1)\n",
    "    x_test = x_test.reshape(x_test.shape[0], img_rows, img_cols, 1)\n",
    "    input_shape = (img_rows, img_cols, 1)\n",
    "    \n",
    "### observe data dimension\n",
    "print(\"X_train:\", x_train.shape)\n",
    "print(\"y_train:\", y_train.shape)\n",
    "print(\"X_test: \", x_test.shape)\n",
    "print(\"y_test: \", y_test.shape)"
   ]
  },
  {
   "cell_type": "code",
   "execution_count": 4,
   "metadata": {
    "colab": {
     "base_uri": "https://localhost:8080/",
     "height": 34
    },
    "colab_type": "code",
    "executionInfo": {
     "elapsed": 4325,
     "status": "ok",
     "timestamp": 1548300146865,
     "user": {
      "displayName": "柯逵悅",
      "photoUrl": "https://lh5.googleusercontent.com/-M0ECjlFPaa8/AAAAAAAAAAI/AAAAAAAAAkk/dheIQ4ShHHg/s64/photo.jpg",
      "userId": "07101215254269543390"
     },
     "user_tz": 300
    },
    "id": "ZAHNzDnugeVO",
    "outputId": "d8849040-8853-43de-90b7-b3573ced47d5"
   },
   "outputs": [
    {
     "data": {
      "text/plain": [
       "'channels_last'"
      ]
     },
     "execution_count": 4,
     "metadata": {},
     "output_type": "execute_result"
    }
   ],
   "source": [
    "K.image_data_format()"
   ]
  },
  {
   "cell_type": "code",
   "execution_count": 5,
   "metadata": {
    "colab": {
     "base_uri": "https://localhost:8080/",
     "height": 34
    },
    "colab_type": "code",
    "executionInfo": {
     "elapsed": 238,
     "status": "ok",
     "timestamp": 1548375089158,
     "user": {
      "displayName": "柯逵悅",
      "photoUrl": "https://lh5.googleusercontent.com/-M0ECjlFPaa8/AAAAAAAAAAI/AAAAAAAAAkk/dheIQ4ShHHg/s64/photo.jpg",
      "userId": "07101215254269543390"
     },
     "user_tz": 300
    },
    "id": "KfC4-z4_WMG9",
    "outputId": "945686bf-8b53-47a3-9fc8-dbae5cf8b49c"
   },
   "outputs": [
    {
     "data": {
      "text/plain": [
       "(28, 28, 1)"
      ]
     },
     "execution_count": 5,
     "metadata": {},
     "output_type": "execute_result"
    }
   ],
   "source": [
    "x_train[0].shape"
   ]
  },
  {
   "cell_type": "code",
   "execution_count": 6,
   "metadata": {
    "colab": {
     "base_uri": "https://localhost:8080/",
     "height": 483
    },
    "colab_type": "code",
    "executionInfo": {
     "elapsed": 1206,
     "status": "ok",
     "timestamp": 1548375310642,
     "user": {
      "displayName": "柯逵悅",
      "photoUrl": "https://lh5.googleusercontent.com/-M0ECjlFPaa8/AAAAAAAAAAI/AAAAAAAAAkk/dheIQ4ShHHg/s64/photo.jpg",
      "userId": "07101215254269543390"
     },
     "user_tz": 300
    },
    "id": "lbtxAKtoVjjG",
    "outputId": "5177383b-8a67-44c4-8103-087d9c231633"
   },
   "outputs": [
    {
     "data": {
      "image/png": "[encoded data removed]",
      "text/plain": [
       "<Figure size 576x576 with 4 Axes>"
      ]
     },
     "metadata": {},
     "output_type": "display_data"
    }
   ],
   "source": [
    "fig, axes = plt.subplots(ncols=2, nrows=2, figsize = (8, 8))\n",
    "\n",
    "axes[0, 0].imshow(x_train[0][:, :, 0])\n",
    "\n",
    "axes[0, 1].imshow(x_train[1][:, :, 0])\n",
    "\n",
    "axes[1, 0].imshow(x_train[2][:, :, 0])\n",
    "\n",
    "axes[1, 1].imshow(x_train[3][:, :, 0])\n",
    "pass"
   ]
  },
  {
   "cell_type": "markdown",
   "metadata": {
    "colab_type": "text",
    "id": "M4ipERMcgeTD"
   },
   "source": [
    "**Preprocess class labels**"
   ]
  },
  {
   "cell_type": "code",
   "execution_count": 7,
   "metadata": {
    "colab": {
     "base_uri": "https://localhost:8080/",
     "height": 51
    },
    "colab_type": "code",
    "executionInfo": {
     "elapsed": 245,
     "status": "ok",
     "timestamp": 1548374173001,
     "user": {
      "displayName": "柯逵悅",
      "photoUrl": "https://lh5.googleusercontent.com/-M0ECjlFPaa8/AAAAAAAAAAI/AAAAAAAAAkk/dheIQ4ShHHg/s64/photo.jpg",
      "userId": "07101215254269543390"
     },
     "user_tz": 300
    },
    "id": "_Sh9MKwzgeQd",
    "outputId": "ef387353-2422-40dd-8829-9a324f5a24e4"
   },
   "outputs": [
    {
     "name": "stdout",
     "output_type": "stream",
     "text": [
      "y_train: (60000, 10)\n",
      "y_test:  (10000, 10)\n"
     ]
    }
   ],
   "source": [
    "# number of classes\n",
    "num_classes = 10\n",
    "\n",
    "# convert class vectors to binary class matrices\n",
    "y_train = keras.utils.to_categorical(y_train, num_classes)\n",
    "y_test = keras.utils.to_categorical(y_test, num_classes)\n",
    "\n",
    "print(\"y_train:\", y_train.shape)\n",
    "print(\"y_test: \", y_test.shape)"
   ]
  },
  {
   "cell_type": "code",
   "execution_count": 8,
   "metadata": {
    "colab": {
     "base_uri": "https://localhost:8080/",
     "height": 102
    },
    "colab_type": "code",
    "executionInfo": {
     "elapsed": 246,
     "status": "ok",
     "timestamp": 1548374176358,
     "user": {
      "displayName": "柯逵悅",
      "photoUrl": "https://lh5.googleusercontent.com/-M0ECjlFPaa8/AAAAAAAAAAI/AAAAAAAAAkk/dheIQ4ShHHg/s64/photo.jpg",
      "userId": "07101215254269543390"
     },
     "user_tz": 300
    },
    "id": "WtoOmvTpgeNr",
    "outputId": "9f2e12e9-04c5-4378-f1d1-c5641590619c"
   },
   "outputs": [
    {
     "name": "stdout",
     "output_type": "stream",
     "text": [
      "[[0. 0. 0. 0. 0. 1. 0. 0. 0. 0.]\n",
      " [1. 0. 0. 0. 0. 0. 0. 0. 0. 0.]\n",
      " [0. 0. 0. 0. 1. 0. 0. 0. 0. 0.]]\n",
      "=============================\n",
      "[5 0 4]\n"
     ]
    }
   ],
   "source": [
    "print(y_train[:3])\n",
    "print(\"=============================\")\n",
    "print(np.where(y_train[:3] == 1.0)[1])"
   ]
  },
  {
   "cell_type": "code",
   "execution_count": 9,
   "metadata": {
    "colab": {
     "base_uri": "https://localhost:8080/",
     "height": 85
    },
    "colab_type": "code",
    "executionInfo": {
     "elapsed": 397,
     "status": "ok",
     "timestamp": 1548374178658,
     "user": {
      "displayName": "柯逵悅",
      "photoUrl": "https://lh5.googleusercontent.com/-M0ECjlFPaa8/AAAAAAAAAAI/AAAAAAAAAkk/dheIQ4ShHHg/s64/photo.jpg",
      "userId": "07101215254269543390"
     },
     "user_tz": 300
    },
    "id": "BVTEe-TBgeLK",
    "outputId": "c6dc7c20-00f0-4546-c355-e8393f160737"
   },
   "outputs": [
    {
     "name": "stdout",
     "output_type": "stream",
     "text": [
      "X_train: (60000, 28, 28, 1)\n",
      "y_train: (60000, 10)\n",
      "X_test:  (10000, 28, 28, 1)\n",
      "y_test:  (10000, 10)\n"
     ]
    }
   ],
   "source": [
    "### observe data dimension\n",
    "print(\"X_train:\", x_train.shape)\n",
    "print(\"y_train:\", y_train.shape)\n",
    "print(\"X_test: \", x_test.shape)\n",
    "print(\"y_test: \", y_test.shape)"
   ]
  },
  {
   "cell_type": "markdown",
   "metadata": {
    "colab_type": "text",
    "id": "rhWzV-TBgeI9"
   },
   "source": [
    "# Building model and train"
   ]
  },
  {
   "cell_type": "code",
   "execution_count": 10,
   "metadata": {
    "colab": {
     "base_uri": "https://localhost:8080/",
     "height": 408
    },
    "colab_type": "code",
    "executionInfo": {
     "elapsed": 5386,
     "status": "ok",
     "timestamp": 1548300147984,
     "user": {
      "displayName": "柯逵悅",
      "photoUrl": "https://lh5.googleusercontent.com/-M0ECjlFPaa8/AAAAAAAAAAI/AAAAAAAAAkk/dheIQ4ShHHg/s64/photo.jpg",
      "userId": "07101215254269543390"
     },
     "user_tz": 300
    },
    "id": "LSRLi1IZrcPU",
    "outputId": "a674afcd-6305-4b78-92f8-50df1c8df235"
   },
   "outputs": [
    {
     "name": "stdout",
     "output_type": "stream",
     "text": [
      "_________________________________________________________________\n",
      "Layer (type)                 Output Shape              Param #   \n",
      "=================================================================\n",
      "conv2d_1 (Conv2D)            (None, 26, 26, 32)        320       \n",
      "_________________________________________________________________\n",
      "conv2d_2 (Conv2D)            (None, 24, 24, 64)        18496     \n",
      "_________________________________________________________________\n",
      "max_pooling2d_1 (MaxPooling2 (None, 12, 12, 64)        0         \n",
      "_________________________________________________________________\n",
      "dropout_1 (Dropout)          (None, 12, 12, 64)        0         \n",
      "_________________________________________________________________\n",
      "flatten_1 (Flatten)          (None, 9216)              0         \n",
      "_________________________________________________________________\n",
      "dense_1 (Dense)              (None, 128)               1179776   \n",
      "_________________________________________________________________\n",
      "dropout_2 (Dropout)          (None, 128)               0         \n",
      "_________________________________________________________________\n",
      "dense_2 (Dense)              (None, 10)                1290      \n",
      "=================================================================\n",
      "Total params: 1,199,882\n",
      "Trainable params: 1,199,882\n",
      "Non-trainable params: 0\n",
      "_________________________________________________________________\n"
     ]
    }
   ],
   "source": [
    "### Convolutional Neural Network\n",
    "model = Sequential()\n",
    "model.add(Conv2D(32, kernel_size=(3, 3),\n",
    "                 activation='relu',\n",
    "                 input_shape=input_shape))\n",
    "model.add(Conv2D(64, (3, 3), activation='relu'))\n",
    "model.add(MaxPooling2D(pool_size=(2, 2)))\n",
    "model.add(Dropout(0.25))\n",
    "\n",
    "### Multilayer Perceptron (fully connected network)\n",
    "model.add(Flatten())\n",
    "model.add(Dense(128, activation='relu'))\n",
    "model.add(Dropout(0.5))\n",
    "\n",
    "### Softmax operation\n",
    "model.add(Dense(num_classes, activation='softmax'))\n",
    "\n",
    "model.compile(loss=keras.losses.categorical_crossentropy,\n",
    "              optimizer=keras.optimizers.Adadelta(),\n",
    "              metrics=['accuracy'])\n",
    "\n",
    "### model summary\n",
    "model.summary()"
   ]
  },
  {
   "cell_type": "code",
   "execution_count": 11,
   "metadata": {
    "colab": {
     "base_uri": "https://localhost:8080/",
     "height": 544
    },
    "colab_type": "code",
    "executionInfo": {
     "elapsed": 212736,
     "status": "ok",
     "timestamp": 1548300355348,
     "user": {
      "displayName": "柯逵悅",
      "photoUrl": "https://lh5.googleusercontent.com/-M0ECjlFPaa8/AAAAAAAAAAI/AAAAAAAAAkk/dheIQ4ShHHg/s64/photo.jpg",
      "userId": "07101215254269543390"
     },
     "user_tz": 300
    },
    "id": "7ikX4O2trcMc",
    "outputId": "e59d0282-e6a0-40a2-d6a4-c38964c3be54"
   },
   "outputs": [
    {
     "name": "stdout",
     "output_type": "stream",
     "text": [
      "Train on 60000 samples, validate on 10000 samples\n",
      "Epoch 1/15\n",
      "11008/60000 [====>.........................] - ETA: 32s - loss: 0.5763 - acc: 0.8170"
     ]
    },
    {
     "ename": "KeyboardInterrupt",
     "evalue": "",
     "output_type": "error",
     "traceback": [
      "\u001b[0;31m---------------------------------------------------------------------------\u001b[0m",
      "\u001b[0;31mKeyboardInterrupt\u001b[0m                         Traceback (most recent call last)",
      "\u001b[0;32m<ipython-input-11-22c704b41ccf>\u001b[0m in \u001b[0;36m<module>\u001b[0;34m()\u001b[0m\n\u001b[1;32m      9\u001b[0m     \u001b[0mepochs\u001b[0m\u001b[0;34m=\u001b[0m\u001b[0mepochs\u001b[0m\u001b[0;34m,\u001b[0m\u001b[0;34m\u001b[0m\u001b[0m\n\u001b[1;32m     10\u001b[0m     \u001b[0mverbose\u001b[0m\u001b[0;34m=\u001b[0m\u001b[0;36m1\u001b[0m\u001b[0;34m,\u001b[0m\u001b[0;34m\u001b[0m\u001b[0m\n\u001b[0;32m---> 11\u001b[0;31m     validation_data=(x_test, y_test))\n\u001b[0m\u001b[1;32m     12\u001b[0m \u001b[0;34m\u001b[0m\u001b[0m\n\u001b[1;32m     13\u001b[0m \u001b[0;31m### Store the results\u001b[0m\u001b[0;34m\u001b[0m\u001b[0;34m\u001b[0m\u001b[0m\n",
      "\u001b[0;32m/opt/anaconda3/lib/python3.6/site-packages/keras/engine/training.py\u001b[0m in \u001b[0;36mfit\u001b[0;34m(self, x, y, batch_size, epochs, verbose, callbacks, validation_split, validation_data, shuffle, class_weight, sample_weight, initial_epoch, steps_per_epoch, validation_steps, **kwargs)\u001b[0m\n\u001b[1;32m   1037\u001b[0m                                         \u001b[0minitial_epoch\u001b[0m\u001b[0;34m=\u001b[0m\u001b[0minitial_epoch\u001b[0m\u001b[0;34m,\u001b[0m\u001b[0;34m\u001b[0m\u001b[0m\n\u001b[1;32m   1038\u001b[0m                                         \u001b[0msteps_per_epoch\u001b[0m\u001b[0;34m=\u001b[0m\u001b[0msteps_per_epoch\u001b[0m\u001b[0;34m,\u001b[0m\u001b[0;34m\u001b[0m\u001b[0m\n\u001b[0;32m-> 1039\u001b[0;31m                                         validation_steps=validation_steps)\n\u001b[0m\u001b[1;32m   1040\u001b[0m \u001b[0;34m\u001b[0m\u001b[0m\n\u001b[1;32m   1041\u001b[0m     def evaluate(self, x=None, y=None,\n",
      "\u001b[0;32m/opt/anaconda3/lib/python3.6/site-packages/keras/engine/training_arrays.py\u001b[0m in \u001b[0;36mfit_loop\u001b[0;34m(model, f, ins, out_labels, batch_size, epochs, verbose, callbacks, val_f, val_ins, shuffle, callback_metrics, initial_epoch, steps_per_epoch, validation_steps)\u001b[0m\n\u001b[1;32m    197\u001b[0m                     \u001b[0mins_batch\u001b[0m\u001b[0;34m[\u001b[0m\u001b[0mi\u001b[0m\u001b[0;34m]\u001b[0m \u001b[0;34m=\u001b[0m \u001b[0mins_batch\u001b[0m\u001b[0;34m[\u001b[0m\u001b[0mi\u001b[0m\u001b[0;34m]\u001b[0m\u001b[0;34m.\u001b[0m\u001b[0mtoarray\u001b[0m\u001b[0;34m(\u001b[0m\u001b[0;34m)\u001b[0m\u001b[0;34m\u001b[0m\u001b[0m\n\u001b[1;32m    198\u001b[0m \u001b[0;34m\u001b[0m\u001b[0m\n\u001b[0;32m--> 199\u001b[0;31m                 \u001b[0mouts\u001b[0m \u001b[0;34m=\u001b[0m \u001b[0mf\u001b[0m\u001b[0;34m(\u001b[0m\u001b[0mins_batch\u001b[0m\u001b[0;34m)\u001b[0m\u001b[0;34m\u001b[0m\u001b[0m\n\u001b[0m\u001b[1;32m    200\u001b[0m                 \u001b[0mouts\u001b[0m \u001b[0;34m=\u001b[0m \u001b[0mto_list\u001b[0m\u001b[0;34m(\u001b[0m\u001b[0mouts\u001b[0m\u001b[0;34m)\u001b[0m\u001b[0;34m\u001b[0m\u001b[0m\n\u001b[1;32m    201\u001b[0m                 \u001b[0;32mfor\u001b[0m \u001b[0ml\u001b[0m\u001b[0;34m,\u001b[0m \u001b[0mo\u001b[0m \u001b[0;32min\u001b[0m \u001b[0mzip\u001b[0m\u001b[0;34m(\u001b[0m\u001b[0mout_labels\u001b[0m\u001b[0;34m,\u001b[0m \u001b[0mouts\u001b[0m\u001b[0;34m)\u001b[0m\u001b[0;34m:\u001b[0m\u001b[0;34m\u001b[0m\u001b[0m\n",
      "\u001b[0;32m/opt/anaconda3/lib/python3.6/site-packages/keras/backend/tensorflow_backend.py\u001b[0m in \u001b[0;36m__call__\u001b[0;34m(self, inputs)\u001b[0m\n\u001b[1;32m   2713\u001b[0m                 \u001b[0;32mreturn\u001b[0m \u001b[0mself\u001b[0m\u001b[0;34m.\u001b[0m\u001b[0m_legacy_call\u001b[0m\u001b[0;34m(\u001b[0m\u001b[0minputs\u001b[0m\u001b[0;34m)\u001b[0m\u001b[0;34m\u001b[0m\u001b[0m\n\u001b[1;32m   2714\u001b[0m \u001b[0;34m\u001b[0m\u001b[0m\n\u001b[0;32m-> 2715\u001b[0;31m             \u001b[0;32mreturn\u001b[0m \u001b[0mself\u001b[0m\u001b[0;34m.\u001b[0m\u001b[0m_call\u001b[0m\u001b[0;34m(\u001b[0m\u001b[0minputs\u001b[0m\u001b[0;34m)\u001b[0m\u001b[0;34m\u001b[0m\u001b[0m\n\u001b[0m\u001b[1;32m   2716\u001b[0m         \u001b[0;32melse\u001b[0m\u001b[0;34m:\u001b[0m\u001b[0;34m\u001b[0m\u001b[0m\n\u001b[1;32m   2717\u001b[0m             \u001b[0;32mif\u001b[0m \u001b[0mpy_any\u001b[0m\u001b[0;34m(\u001b[0m\u001b[0mis_tensor\u001b[0m\u001b[0;34m(\u001b[0m\u001b[0mx\u001b[0m\u001b[0;34m)\u001b[0m \u001b[0;32mfor\u001b[0m \u001b[0mx\u001b[0m \u001b[0;32min\u001b[0m \u001b[0minputs\u001b[0m\u001b[0;34m)\u001b[0m\u001b[0;34m:\u001b[0m\u001b[0;34m\u001b[0m\u001b[0m\n",
      "\u001b[0;32m/opt/anaconda3/lib/python3.6/site-packages/keras/backend/tensorflow_backend.py\u001b[0m in \u001b[0;36m_call\u001b[0;34m(self, inputs)\u001b[0m\n\u001b[1;32m   2673\u001b[0m             \u001b[0mfetched\u001b[0m \u001b[0;34m=\u001b[0m \u001b[0mself\u001b[0m\u001b[0;34m.\u001b[0m\u001b[0m_callable_fn\u001b[0m\u001b[0;34m(\u001b[0m\u001b[0;34m*\u001b[0m\u001b[0marray_vals\u001b[0m\u001b[0;34m,\u001b[0m \u001b[0mrun_metadata\u001b[0m\u001b[0;34m=\u001b[0m\u001b[0mself\u001b[0m\u001b[0;34m.\u001b[0m\u001b[0mrun_metadata\u001b[0m\u001b[0;34m)\u001b[0m\u001b[0;34m\u001b[0m\u001b[0m\n\u001b[1;32m   2674\u001b[0m         \u001b[0;32melse\u001b[0m\u001b[0;34m:\u001b[0m\u001b[0;34m\u001b[0m\u001b[0m\n\u001b[0;32m-> 2675\u001b[0;31m             \u001b[0mfetched\u001b[0m \u001b[0;34m=\u001b[0m \u001b[0mself\u001b[0m\u001b[0;34m.\u001b[0m\u001b[0m_callable_fn\u001b[0m\u001b[0;34m(\u001b[0m\u001b[0;34m*\u001b[0m\u001b[0marray_vals\u001b[0m\u001b[0;34m)\u001b[0m\u001b[0;34m\u001b[0m\u001b[0m\n\u001b[0m\u001b[1;32m   2676\u001b[0m         \u001b[0;32mreturn\u001b[0m \u001b[0mfetched\u001b[0m\u001b[0;34m[\u001b[0m\u001b[0;34m:\u001b[0m\u001b[0mlen\u001b[0m\u001b[0;34m(\u001b[0m\u001b[0mself\u001b[0m\u001b[0;34m.\u001b[0m\u001b[0moutputs\u001b[0m\u001b[0;34m)\u001b[0m\u001b[0;34m]\u001b[0m\u001b[0;34m\u001b[0m\u001b[0m\n\u001b[1;32m   2677\u001b[0m \u001b[0;34m\u001b[0m\u001b[0m\n",
      "\u001b[0;32m/opt/anaconda3/lib/python3.6/site-packages/tensorflow/python/client/session.py\u001b[0m in \u001b[0;36m__call__\u001b[0;34m(self, *args, **kwargs)\u001b[0m\n\u001b[1;32m   1380\u001b[0m           ret = tf_session.TF_SessionRunCallable(\n\u001b[1;32m   1381\u001b[0m               \u001b[0mself\u001b[0m\u001b[0;34m.\u001b[0m\u001b[0m_session\u001b[0m\u001b[0;34m.\u001b[0m\u001b[0m_session\u001b[0m\u001b[0;34m,\u001b[0m \u001b[0mself\u001b[0m\u001b[0;34m.\u001b[0m\u001b[0m_handle\u001b[0m\u001b[0;34m,\u001b[0m \u001b[0margs\u001b[0m\u001b[0;34m,\u001b[0m \u001b[0mstatus\u001b[0m\u001b[0;34m,\u001b[0m\u001b[0;34m\u001b[0m\u001b[0m\n\u001b[0;32m-> 1382\u001b[0;31m               run_metadata_ptr)\n\u001b[0m\u001b[1;32m   1383\u001b[0m         \u001b[0;32mif\u001b[0m \u001b[0mrun_metadata\u001b[0m\u001b[0;34m:\u001b[0m\u001b[0;34m\u001b[0m\u001b[0m\n\u001b[1;32m   1384\u001b[0m           \u001b[0mproto_data\u001b[0m \u001b[0;34m=\u001b[0m \u001b[0mtf_session\u001b[0m\u001b[0;34m.\u001b[0m\u001b[0mTF_GetBuffer\u001b[0m\u001b[0;34m(\u001b[0m\u001b[0mrun_metadata_ptr\u001b[0m\u001b[0;34m)\u001b[0m\u001b[0;34m\u001b[0m\u001b[0m\n",
      "\u001b[0;31mKeyboardInterrupt\u001b[0m: "
     ]
    }
   ],
   "source": [
    "### define number of epoch\n",
    "epochs     = 15\n",
    "batch_size = 64\n",
    "\n",
    "### fit the model\n",
    "history = model.fit(\n",
    "    x_train, y_train,\n",
    "    batch_size=batch_size,\n",
    "    epochs=epochs,\n",
    "    verbose=1,\n",
    "    validation_data=(x_test, y_test))\n",
    "\n",
    "### Store the results\n",
    "history01 = history\n",
    "model01   = model"
   ]
  },
  {
   "cell_type": "code",
   "execution_count": 0,
   "metadata": {
    "colab": {
     "base_uri": "https://localhost:8080/",
     "height": 51
    },
    "colab_type": "code",
    "executionInfo": {
     "elapsed": 213551,
     "status": "ok",
     "timestamp": 1548300356181,
     "user": {
      "displayName": "柯逵悅",
      "photoUrl": "https://lh5.googleusercontent.com/-M0ECjlFPaa8/AAAAAAAAAAI/AAAAAAAAAkk/dheIQ4ShHHg/s64/photo.jpg",
      "userId": "07101215254269543390"
     },
     "user_tz": 300
    },
    "id": "bt5gVMN8rcG5",
    "outputId": "c37ecded-02e4-4cdc-91e2-bbfafda44567"
   },
   "outputs": [
    {
     "name": "stdout",
     "output_type": "stream",
     "text": [
      "Test loss: 0.03142040333038312\n",
      "Test accuracy: 0.9907\n"
     ]
    }
   ],
   "source": [
    "### get the end score\n",
    "score = model.evaluate(x_test, y_test, verbose=0)\n",
    "print('Test loss:',     score[0])\n",
    "print('Test accuracy:', score[1])"
   ]
  },
  {
   "cell_type": "markdown",
   "metadata": {
    "colab_type": "text",
    "id": "hC6fs301rcJ0"
   },
   "source": [
    "**Visualizing loss and accuracy**"
   ]
  },
  {
   "cell_type": "code",
   "execution_count": 0,
   "metadata": {
    "colab": {
     "base_uri": "https://localhost:8080/",
     "height": 335
    },
    "colab_type": "code",
    "executionInfo": {
     "elapsed": 214130,
     "status": "ok",
     "timestamp": 1548300356776,
     "user": {
      "displayName": "柯逵悅",
      "photoUrl": "https://lh5.googleusercontent.com/-M0ECjlFPaa8/AAAAAAAAAAI/AAAAAAAAAkk/dheIQ4ShHHg/s64/photo.jpg",
      "userId": "07101215254269543390"
     },
     "user_tz": 300
    },
    "id": "57h2w1EmrcDl",
    "outputId": "d05d1903-2e26-4e79-f6c5-3793a04ddf50"
   },
   "outputs": [
    {
     "data": {
      "image/png": "[encoded data removed]",
      "text/plain": [
       "<Figure size 720x360 with 2 Axes>"
      ]
     },
     "metadata": {
      "tags": []
     },
     "output_type": "display_data"
    }
   ],
   "source": [
    "### init\n",
    "history = history01\n",
    "\n",
    "### get accuracy and loss along the iterations\n",
    "acc      = history.history['acc']\n",
    "val_acc  = history.history['val_acc']\n",
    "loss     = history.history['loss']\n",
    "val_loss = history.history['val_loss']\n",
    "epochs   = range(1, len(acc) + 1)\n",
    "\n",
    "### plot accuracy\n",
    "fig, axes = plt.subplots(ncols=2, nrows=1, figsize = (10, 5))\n",
    "ax = axes[0]\n",
    "ax.plot(epochs, acc,     'bo', c = \"red\", label='Training acc')\n",
    "ax.plot(epochs, val_acc, 'b',  c = \"red\", label='Validation acc')\n",
    "ax.set_title('Training and validation accuracy')\n",
    "\n",
    "ax = axes[1]\n",
    "ax.plot(epochs, loss,     'bo', c = \"blue\", label='Training loss')\n",
    "ax.plot(epochs, val_loss, 'b',  c = \"blue\", label='Validation loss')\n",
    "ax.set_title('Training and validation loss')\n",
    "ax.legend()\n",
    "\n",
    "plt.show()"
   ]
  },
  {
   "cell_type": "markdown",
   "metadata": {
    "colab_type": "text",
    "id": "y05fcIBUrb9d"
   },
   "source": [
    "# Try to overtrain\n",
    "First try: reduce the number of training set"
   ]
  },
  {
   "cell_type": "markdown",
   "metadata": {
    "colab_type": "text",
    "id": "fXPpaagTuXzs"
   },
   "source": [
    "**Re-build the model**"
   ]
  },
  {
   "cell_type": "code",
   "execution_count": 0,
   "metadata": {
    "colab": {
     "base_uri": "https://localhost:8080/",
     "height": 408
    },
    "colab_type": "code",
    "executionInfo": {
     "elapsed": 214114,
     "status": "ok",
     "timestamp": 1548300356777,
     "user": {
      "displayName": "柯逵悅",
      "photoUrl": "https://lh5.googleusercontent.com/-M0ECjlFPaa8/AAAAAAAAAAI/AAAAAAAAAkk/dheIQ4ShHHg/s64/photo.jpg",
      "userId": "07101215254269543390"
     },
     "user_tz": 300
    },
    "id": "_QxGSg7GuGNy",
    "outputId": "6084bb67-31b4-4d16-9b0d-40add9c375ac"
   },
   "outputs": [
    {
     "name": "stdout",
     "output_type": "stream",
     "text": [
      "_________________________________________________________________\n",
      "Layer (type)                 Output Shape              Param #   \n",
      "=================================================================\n",
      "conv2d_3 (Conv2D)            (None, 26, 26, 32)        320       \n",
      "_________________________________________________________________\n",
      "conv2d_4 (Conv2D)            (None, 24, 24, 64)        18496     \n",
      "_________________________________________________________________\n",
      "max_pooling2d_2 (MaxPooling2 (None, 12, 12, 64)        0         \n",
      "_________________________________________________________________\n",
      "dropout_3 (Dropout)          (None, 12, 12, 64)        0         \n",
      "_________________________________________________________________\n",
      "flatten_2 (Flatten)          (None, 9216)              0         \n",
      "_________________________________________________________________\n",
      "dense_3 (Dense)              (None, 128)               1179776   \n",
      "_________________________________________________________________\n",
      "dropout_4 (Dropout)          (None, 128)               0         \n",
      "_________________________________________________________________\n",
      "dense_4 (Dense)              (None, 10)                1290      \n",
      "=================================================================\n",
      "Total params: 1,199,882\n",
      "Trainable params: 1,199,882\n",
      "Non-trainable params: 0\n",
      "_________________________________________________________________\n"
     ]
    }
   ],
   "source": [
    "### Convolutional Neural Network\n",
    "model = Sequential()\n",
    "model.add(Conv2D(32, kernel_size=(3, 3),\n",
    "                 activation='relu',\n",
    "                 input_shape=input_shape))\n",
    "model.add(Conv2D(64, (3, 3), activation='relu'))\n",
    "model.add(MaxPooling2D(pool_size=(2, 2)))\n",
    "model.add(Dropout(0.25))\n",
    "\n",
    "### Multilayer Perceptron (fully connected network)\n",
    "model.add(Flatten())\n",
    "model.add(Dense(128, activation='relu'))\n",
    "model.add(Dropout(0.5))\n",
    "\n",
    "### Softmax operation\n",
    "model.add(Dense(num_classes, activation='softmax'))\n",
    "\n",
    "model.compile(loss=keras.losses.categorical_crossentropy,\n",
    "              optimizer=keras.optimizers.Adadelta(),\n",
    "              metrics=['accuracy'])\n",
    "\n",
    "### model summary\n",
    "model.summary()"
   ]
  },
  {
   "cell_type": "markdown",
   "metadata": {
    "colab_type": "text",
    "id": "PtEwOmP5uGK1"
   },
   "source": [
    "**Reduce the training dataset**"
   ]
  },
  {
   "cell_type": "code",
   "execution_count": 7,
   "metadata": {
    "colab": {
     "base_uri": "https://localhost:8080/",
     "height": 187
    },
    "colab_type": "code",
    "executionInfo": {
     "elapsed": 249,
     "status": "ok",
     "timestamp": 1548374242196,
     "user": {
      "displayName": "柯逵悅",
      "photoUrl": "https://lh5.googleusercontent.com/-M0ECjlFPaa8/AAAAAAAAAAI/AAAAAAAAAkk/dheIQ4ShHHg/s64/photo.jpg",
      "userId": "07101215254269543390"
     },
     "user_tz": 300
    },
    "id": "Pd9JiKdyuGD4",
    "outputId": "7d9f442a-a84b-41b9-b21f-58cbc98de2d3"
   },
   "outputs": [
    {
     "name": "stdout",
     "output_type": "stream",
     "text": [
      "Original\n",
      "X_train: (60000, 28, 28, 1)\n",
      "y_train: (60000, 10)\n",
      "X_test:  (10000, 28, 28, 1)\n",
      "y_test:  (10000, 10)\n",
      "Reduce\n",
      "X_train: (1000, 28, 28, 1)\n",
      "y_train: (1000, 10)\n",
      "X_test:  (10000, 28, 28, 1)\n",
      "y_test:  (10000, 10)\n"
     ]
    }
   ],
   "source": [
    "### observe data dimension\n",
    "print(\"Original\")\n",
    "print(\"X_train:\", x_train.shape)\n",
    "print(\"y_train:\", y_train.shape)\n",
    "print(\"X_test: \", x_test.shape)\n",
    "print(\"y_test: \", y_test.shape)\n",
    "\n",
    "### reducing training data\n",
    "x_train_red = x_train[:1000]\n",
    "y_train_red = y_train[:1000]\n",
    "\n",
    "### After reducing data\n",
    "print(\"Reduce\")\n",
    "print(\"X_train:\", x_train_red.shape)\n",
    "print(\"y_train:\", y_train_red.shape)\n",
    "print(\"X_test: \", x_test.shape)\n",
    "print(\"y_test: \", y_test.shape)"
   ]
  },
  {
   "cell_type": "markdown",
   "metadata": {
    "colab_type": "text",
    "id": "YzA75r6SuGBA"
   },
   "source": [
    "**Train the model**"
   ]
  },
  {
   "cell_type": "code",
   "execution_count": 0,
   "metadata": {
    "colab": {
     "base_uri": "https://localhost:8080/",
     "height": 3434
    },
    "colab_type": "code",
    "executionInfo": {
     "elapsed": 288896,
     "status": "ok",
     "timestamp": 1548300431588,
     "user": {
      "displayName": "柯逵悅",
      "photoUrl": "https://lh5.googleusercontent.com/-M0ECjlFPaa8/AAAAAAAAAAI/AAAAAAAAAkk/dheIQ4ShHHg/s64/photo.jpg",
      "userId": "07101215254269543390"
     },
     "user_tz": 300
    },
    "id": "wYW_vSSouF-Z",
    "outputId": "8a0a948d-61ae-49f4-ea9a-f48221a32e5d"
   },
   "outputs": [
    {
     "name": "stdout",
     "output_type": "stream",
     "text": [
      "Train on 1000 samples, validate on 10000 samples\n",
      "Epoch 1/100\n",
      "1000/1000 [==============================] - 1s 1ms/step - loss: 1.7587 - acc: 0.3710 - val_loss: 1.0875 - val_acc: 0.6902\n",
      "Epoch 2/100\n",
      "1000/1000 [==============================] - 1s 767us/step - loss: 0.8472 - acc: 0.7380 - val_loss: 0.5539 - val_acc: 0.8230\n",
      "Epoch 3/100\n",
      "1000/1000 [==============================] - 1s 763us/step - loss: 0.5407 - acc: 0.8220 - val_loss: 0.4015 - val_acc: 0.8818\n",
      "Epoch 4/100\n",
      "1000/1000 [==============================] - 1s 754us/step - loss: 0.3625 - acc: 0.8920 - val_loss: 0.4021 - val_acc: 0.8829\n",
      "Epoch 5/100\n",
      "1000/1000 [==============================] - 1s 746us/step - loss: 0.2632 - acc: 0.9200 - val_loss: 0.2810 - val_acc: 0.9119\n",
      "Epoch 6/100\n",
      "1000/1000 [==============================] - 1s 727us/step - loss: 0.2204 - acc: 0.9320 - val_loss: 0.2325 - val_acc: 0.9318\n",
      "Epoch 7/100\n",
      "1000/1000 [==============================] - 1s 741us/step - loss: 0.1789 - acc: 0.9430 - val_loss: 0.2728 - val_acc: 0.9161\n",
      "Epoch 8/100\n",
      "1000/1000 [==============================] - 1s 743us/step - loss: 0.1467 - acc: 0.9650 - val_loss: 0.2809 - val_acc: 0.9125\n",
      "Epoch 9/100\n",
      "1000/1000 [==============================] - 1s 731us/step - loss: 0.1190 - acc: 0.9680 - val_loss: 0.2316 - val_acc: 0.9305\n",
      "Epoch 10/100\n",
      "1000/1000 [==============================] - 1s 731us/step - loss: 0.0930 - acc: 0.9730 - val_loss: 0.2339 - val_acc: 0.9279\n",
      "Epoch 11/100\n",
      "1000/1000 [==============================] - 1s 740us/step - loss: 0.0840 - acc: 0.9700 - val_loss: 0.2226 - val_acc: 0.9309\n",
      "Epoch 12/100\n",
      "1000/1000 [==============================] - 1s 734us/step - loss: 0.0802 - acc: 0.9780 - val_loss: 0.2312 - val_acc: 0.9315\n",
      "Epoch 13/100\n",
      "1000/1000 [==============================] - 1s 724us/step - loss: 0.0512 - acc: 0.9880 - val_loss: 0.2138 - val_acc: 0.9380\n",
      "Epoch 14/100\n",
      "1000/1000 [==============================] - 1s 738us/step - loss: 0.0525 - acc: 0.9800 - val_loss: 0.2155 - val_acc: 0.9397\n",
      "Epoch 15/100\n",
      "1000/1000 [==============================] - 1s 730us/step - loss: 0.0510 - acc: 0.9850 - val_loss: 0.2367 - val_acc: 0.9348\n",
      "Epoch 16/100\n",
      "1000/1000 [==============================] - 1s 719us/step - loss: 0.0471 - acc: 0.9850 - val_loss: 0.2068 - val_acc: 0.9402\n",
      "Epoch 17/100\n",
      "1000/1000 [==============================] - 1s 730us/step - loss: 0.0325 - acc: 0.9920 - val_loss: 0.2210 - val_acc: 0.9378\n",
      "Epoch 18/100\n",
      "1000/1000 [==============================] - 1s 732us/step - loss: 0.0316 - acc: 0.9920 - val_loss: 0.2304 - val_acc: 0.9396\n",
      "Epoch 19/100\n",
      "1000/1000 [==============================] - 1s 731us/step - loss: 0.0314 - acc: 0.9890 - val_loss: 0.2080 - val_acc: 0.9429\n",
      "Epoch 20/100\n",
      "1000/1000 [==============================] - 1s 735us/step - loss: 0.0197 - acc: 0.9940 - val_loss: 0.2312 - val_acc: 0.9413\n",
      "Epoch 21/100\n",
      "1000/1000 [==============================] - 1s 732us/step - loss: 0.0262 - acc: 0.9910 - val_loss: 0.2441 - val_acc: 0.9381\n",
      "Epoch 22/100\n",
      "1000/1000 [==============================] - 1s 731us/step - loss: 0.0216 - acc: 0.9930 - val_loss: 0.2546 - val_acc: 0.9369\n",
      "Epoch 23/100\n",
      "1000/1000 [==============================] - 1s 724us/step - loss: 0.0250 - acc: 0.9910 - val_loss: 0.2326 - val_acc: 0.9429\n",
      "Epoch 24/100\n",
      "1000/1000 [==============================] - 1s 735us/step - loss: 0.0237 - acc: 0.9910 - val_loss: 0.2160 - val_acc: 0.9435\n",
      "Epoch 25/100\n",
      "1000/1000 [==============================] - 1s 734us/step - loss: 0.0160 - acc: 0.9960 - val_loss: 0.2287 - val_acc: 0.9449\n",
      "Epoch 26/100\n",
      "1000/1000 [==============================] - 1s 732us/step - loss: 0.0211 - acc: 0.9940 - val_loss: 0.2225 - val_acc: 0.9424\n",
      "Epoch 27/100\n",
      "1000/1000 [==============================] - 1s 727us/step - loss: 0.0175 - acc: 0.9960 - val_loss: 0.2271 - val_acc: 0.9453\n",
      "Epoch 28/100\n",
      "1000/1000 [==============================] - 1s 732us/step - loss: 0.0215 - acc: 0.9930 - val_loss: 0.2314 - val_acc: 0.9453\n",
      "Epoch 29/100\n",
      "1000/1000 [==============================] - 1s 732us/step - loss: 0.0156 - acc: 0.9940 - val_loss: 0.2389 - val_acc: 0.9438\n",
      "Epoch 30/100\n",
      "1000/1000 [==============================] - 1s 726us/step - loss: 0.0243 - acc: 0.9930 - val_loss: 0.2310 - val_acc: 0.9421\n",
      "Epoch 31/100\n",
      "1000/1000 [==============================] - 1s 732us/step - loss: 0.0110 - acc: 0.9980 - val_loss: 0.2521 - val_acc: 0.9418\n",
      "Epoch 32/100\n",
      "1000/1000 [==============================] - 1s 734us/step - loss: 0.0096 - acc: 0.9980 - val_loss: 0.2311 - val_acc: 0.9452\n",
      "Epoch 33/100\n",
      "1000/1000 [==============================] - 1s 735us/step - loss: 0.0076 - acc: 0.9990 - val_loss: 0.2754 - val_acc: 0.9397\n",
      "Epoch 34/100\n",
      "1000/1000 [==============================] - 1s 722us/step - loss: 0.0093 - acc: 0.9970 - val_loss: 0.2481 - val_acc: 0.9454\n",
      "Epoch 35/100\n",
      "1000/1000 [==============================] - 1s 727us/step - loss: 0.0092 - acc: 0.9970 - val_loss: 0.2482 - val_acc: 0.9436\n",
      "Epoch 36/100\n",
      "1000/1000 [==============================] - 1s 732us/step - loss: 0.0123 - acc: 0.9980 - val_loss: 0.2451 - val_acc: 0.9457\n",
      "Epoch 37/100\n",
      "1000/1000 [==============================] - 1s 719us/step - loss: 0.0060 - acc: 0.9990 - val_loss: 0.2653 - val_acc: 0.9420\n",
      "Epoch 38/100\n",
      "1000/1000 [==============================] - 1s 739us/step - loss: 0.0085 - acc: 0.9980 - val_loss: 0.2501 - val_acc: 0.9473\n",
      "Epoch 39/100\n",
      "1000/1000 [==============================] - 1s 728us/step - loss: 0.0128 - acc: 0.9960 - val_loss: 0.2538 - val_acc: 0.9449\n",
      "Epoch 40/100\n",
      "1000/1000 [==============================] - 1s 732us/step - loss: 0.0075 - acc: 0.9970 - val_loss: 0.2671 - val_acc: 0.9437\n",
      "Epoch 41/100\n",
      "1000/1000 [==============================] - 1s 726us/step - loss: 0.0079 - acc: 0.9970 - val_loss: 0.2627 - val_acc: 0.9452\n",
      "Epoch 42/100\n",
      "1000/1000 [==============================] - 1s 726us/step - loss: 0.0076 - acc: 0.9980 - val_loss: 0.2614 - val_acc: 0.9434\n",
      "Epoch 43/100\n",
      "1000/1000 [==============================] - 1s 730us/step - loss: 0.0094 - acc: 0.9980 - val_loss: 0.2733 - val_acc: 0.9424\n",
      "Epoch 44/100\n",
      "1000/1000 [==============================] - 1s 715us/step - loss: 0.0051 - acc: 0.9990 - val_loss: 0.2656 - val_acc: 0.9453\n",
      "Epoch 45/100\n",
      "1000/1000 [==============================] - 1s 728us/step - loss: 0.0065 - acc: 0.9980 - val_loss: 0.2586 - val_acc: 0.9471\n",
      "Epoch 46/100\n",
      "1000/1000 [==============================] - 1s 753us/step - loss: 0.0027 - acc: 1.0000 - val_loss: 0.2767 - val_acc: 0.9453\n",
      "Epoch 47/100\n",
      "1000/1000 [==============================] - 1s 749us/step - loss: 0.0051 - acc: 0.9990 - val_loss: 0.2922 - val_acc: 0.9426\n",
      "Epoch 48/100\n",
      "1000/1000 [==============================] - 1s 736us/step - loss: 0.0088 - acc: 0.9980 - val_loss: 0.2679 - val_acc: 0.9465\n",
      "Epoch 49/100\n",
      "1000/1000 [==============================] - 1s 748us/step - loss: 0.0048 - acc: 0.9990 - val_loss: 0.2874 - val_acc: 0.9451\n",
      "Epoch 50/100\n",
      "1000/1000 [==============================] - 1s 747us/step - loss: 0.0096 - acc: 0.9950 - val_loss: 0.2764 - val_acc: 0.9445\n",
      "Epoch 51/100\n",
      "1000/1000 [==============================] - 1s 733us/step - loss: 0.0087 - acc: 0.9960 - val_loss: 0.2655 - val_acc: 0.9474\n",
      "Epoch 52/100\n",
      "1000/1000 [==============================] - 1s 752us/step - loss: 0.0027 - acc: 1.0000 - val_loss: 0.2731 - val_acc: 0.9463\n",
      "Epoch 53/100\n",
      "1000/1000 [==============================] - 1s 747us/step - loss: 0.0045 - acc: 0.9980 - val_loss: 0.2728 - val_acc: 0.9463\n",
      "Epoch 54/100\n",
      "1000/1000 [==============================] - 1s 745us/step - loss: 0.0029 - acc: 0.9990 - val_loss: 0.2747 - val_acc: 0.9476\n",
      "Epoch 55/100\n",
      "1000/1000 [==============================] - 1s 737us/step - loss: 0.0071 - acc: 0.9970 - val_loss: 0.2720 - val_acc: 0.9473\n",
      "Epoch 56/100\n",
      "1000/1000 [==============================] - 1s 737us/step - loss: 0.0051 - acc: 0.9990 - val_loss: 0.2760 - val_acc: 0.9457\n",
      "Epoch 57/100\n",
      "1000/1000 [==============================] - 1s 744us/step - loss: 0.0089 - acc: 0.9970 - val_loss: 0.2667 - val_acc: 0.9461\n",
      "Epoch 58/100\n",
      "1000/1000 [==============================] - 1s 746us/step - loss: 0.0075 - acc: 0.9960 - val_loss: 0.2600 - val_acc: 0.9488\n",
      "Epoch 59/100\n",
      "1000/1000 [==============================] - 1s 725us/step - loss: 0.0056 - acc: 0.9980 - val_loss: 0.2682 - val_acc: 0.9472\n",
      "Epoch 60/100\n",
      "1000/1000 [==============================] - 1s 735us/step - loss: 0.0043 - acc: 0.9990 - val_loss: 0.2723 - val_acc: 0.9463\n",
      "Epoch 61/100\n",
      "1000/1000 [==============================] - 1s 735us/step - loss: 0.0046 - acc: 0.9980 - val_loss: 0.2748 - val_acc: 0.9482\n",
      "Epoch 62/100\n",
      "1000/1000 [==============================] - 1s 724us/step - loss: 0.0037 - acc: 0.9990 - val_loss: 0.2807 - val_acc: 0.9456\n",
      "Epoch 63/100\n",
      "1000/1000 [==============================] - 1s 730us/step - loss: 0.0137 - acc: 0.9980 - val_loss: 0.2684 - val_acc: 0.9464\n",
      "Epoch 64/100\n",
      "1000/1000 [==============================] - 1s 734us/step - loss: 0.0098 - acc: 0.9950 - val_loss: 0.2630 - val_acc: 0.9478\n",
      "Epoch 65/100\n",
      "1000/1000 [==============================] - 1s 735us/step - loss: 0.0060 - acc: 0.9990 - val_loss: 0.2704 - val_acc: 0.9460\n",
      "Epoch 66/100\n",
      "1000/1000 [==============================] - 1s 722us/step - loss: 0.0049 - acc: 1.0000 - val_loss: 0.2630 - val_acc: 0.9481\n",
      "Epoch 67/100\n",
      "1000/1000 [==============================] - 1s 743us/step - loss: 0.0048 - acc: 0.9990 - val_loss: 0.2632 - val_acc: 0.9497\n",
      "Epoch 68/100\n",
      "1000/1000 [==============================] - 1s 734us/step - loss: 0.0034 - acc: 1.0000 - val_loss: 0.2726 - val_acc: 0.9494\n",
      "Epoch 69/100\n",
      "1000/1000 [==============================] - 1s 721us/step - loss: 0.0024 - acc: 1.0000 - val_loss: 0.2956 - val_acc: 0.9465\n",
      "Epoch 70/100\n",
      "1000/1000 [==============================] - 1s 732us/step - loss: 0.0052 - acc: 0.9980 - val_loss: 0.2881 - val_acc: 0.9469\n",
      "Epoch 71/100\n",
      "1000/1000 [==============================] - 1s 731us/step - loss: 0.0018 - acc: 1.0000 - val_loss: 0.2781 - val_acc: 0.9470\n",
      "Epoch 72/100\n",
      "1000/1000 [==============================] - 1s 734us/step - loss: 0.0095 - acc: 0.9960 - val_loss: 0.2985 - val_acc: 0.9459\n",
      "Epoch 73/100\n",
      "1000/1000 [==============================] - 1s 719us/step - loss: 0.0026 - acc: 0.9990 - val_loss: 0.3004 - val_acc: 0.9439\n",
      "Epoch 74/100\n",
      "1000/1000 [==============================] - 1s 729us/step - loss: 0.0014 - acc: 1.0000 - val_loss: 0.2941 - val_acc: 0.9475\n",
      "Epoch 75/100\n",
      "1000/1000 [==============================] - 1s 731us/step - loss: 0.0031 - acc: 1.0000 - val_loss: 0.2976 - val_acc: 0.9459\n",
      "Epoch 76/100\n",
      "1000/1000 [==============================] - 1s 717us/step - loss: 0.0022 - acc: 0.9990 - val_loss: 0.2949 - val_acc: 0.9468\n",
      "Epoch 77/100\n",
      "1000/1000 [==============================] - 1s 725us/step - loss: 0.0017 - acc: 1.0000 - val_loss: 0.3007 - val_acc: 0.9472\n",
      "Epoch 78/100\n",
      "1000/1000 [==============================] - 1s 734us/step - loss: 0.0020 - acc: 1.0000 - val_loss: 0.3032 - val_acc: 0.9472\n",
      "Epoch 79/100\n",
      "1000/1000 [==============================] - 1s 729us/step - loss: 9.0684e-04 - acc: 1.0000 - val_loss: 0.3082 - val_acc: 0.9458\n",
      "Epoch 80/100\n",
      "1000/1000 [==============================] - 1s 721us/step - loss: 0.0014 - acc: 0.9990 - val_loss: 0.3105 - val_acc: 0.9466\n",
      "Epoch 81/100\n",
      "1000/1000 [==============================] - 1s 724us/step - loss: 0.0036 - acc: 0.9990 - val_loss: 0.2807 - val_acc: 0.9494\n",
      "Epoch 82/100\n",
      "1000/1000 [==============================] - 1s 729us/step - loss: 0.0016 - acc: 1.0000 - val_loss: 0.2895 - val_acc: 0.9494\n",
      "Epoch 83/100\n",
      "1000/1000 [==============================] - 1s 717us/step - loss: 0.0034 - acc: 0.9990 - val_loss: 0.2967 - val_acc: 0.9491\n",
      "Epoch 84/100\n",
      "1000/1000 [==============================] - 1s 728us/step - loss: 0.0056 - acc: 0.9950 - val_loss: 0.3015 - val_acc: 0.9468\n",
      "Epoch 85/100\n",
      "1000/1000 [==============================] - 1s 729us/step - loss: 0.0042 - acc: 0.9990 - val_loss: 0.2913 - val_acc: 0.9480\n",
      "Epoch 86/100\n",
      "1000/1000 [==============================] - 1s 725us/step - loss: 0.0026 - acc: 0.9980 - val_loss: 0.2830 - val_acc: 0.9483\n",
      "Epoch 87/100\n",
      "1000/1000 [==============================] - 1s 724us/step - loss: 0.0034 - acc: 0.9990 - val_loss: 0.3047 - val_acc: 0.9428\n",
      "Epoch 88/100\n",
      "1000/1000 [==============================] - 1s 728us/step - loss: 0.0015 - acc: 1.0000 - val_loss: 0.2796 - val_acc: 0.9503\n",
      "Epoch 89/100\n",
      "1000/1000 [==============================] - 1s 728us/step - loss: 0.0038 - acc: 0.9980 - val_loss: 0.2902 - val_acc: 0.9494\n",
      "Epoch 90/100\n",
      "1000/1000 [==============================] - 1s 726us/step - loss: 0.0041 - acc: 0.9980 - val_loss: 0.2942 - val_acc: 0.9470\n",
      "Epoch 91/100\n",
      "1000/1000 [==============================] - 1s 726us/step - loss: 0.0031 - acc: 0.9990 - val_loss: 0.3109 - val_acc: 0.9468\n",
      "Epoch 92/100\n",
      "1000/1000 [==============================] - 1s 729us/step - loss: 0.0029 - acc: 0.9990 - val_loss: 0.3061 - val_acc: 0.9479\n",
      "Epoch 93/100\n",
      "1000/1000 [==============================] - 1s 716us/step - loss: 0.0035 - acc: 0.9990 - val_loss: 0.2969 - val_acc: 0.9495\n",
      "Epoch 94/100\n",
      "1000/1000 [==============================] - 1s 726us/step - loss: 0.0016 - acc: 1.0000 - val_loss: 0.2858 - val_acc: 0.9516\n",
      "Epoch 95/100\n",
      "1000/1000 [==============================] - 1s 726us/step - loss: 0.0014 - acc: 1.0000 - val_loss: 0.2899 - val_acc: 0.9508\n",
      "Epoch 96/100\n",
      "1000/1000 [==============================] - 1s 729us/step - loss: 0.0016 - acc: 1.0000 - val_loss: 0.3096 - val_acc: 0.9477\n",
      "Epoch 97/100\n",
      "1000/1000 [==============================] - 1s 723us/step - loss: 7.1458e-04 - acc: 1.0000 - val_loss: 0.3059 - val_acc: 0.9482\n",
      "Epoch 98/100\n",
      "1000/1000 [==============================] - 1s 726us/step - loss: 8.7206e-04 - acc: 1.0000 - val_loss: 0.3271 - val_acc: 0.9463\n",
      "Epoch 99/100\n",
      "1000/1000 [==============================] - 1s 737us/step - loss: 0.0039 - acc: 0.9980 - val_loss: 0.3051 - val_acc: 0.9475\n",
      "Epoch 100/100\n",
      "1000/1000 [==============================] - 1s 715us/step - loss: 4.5505e-04 - acc: 1.0000 - val_loss: 0.3085 - val_acc: 0.9472\n"
     ]
    }
   ],
   "source": [
    "### define number of epoch\n",
    "epochs     = 100\n",
    "batch_size = 64\n",
    "\n",
    "### fit the model\n",
    "history = model.fit(\n",
    "    x_train_red, y_train_red,\n",
    "    batch_size=batch_size,\n",
    "    epochs=epochs,\n",
    "    verbose=1,\n",
    "    validation_data=(x_test, y_test))\n",
    "\n",
    "### Store the results\n",
    "history02 = history\n",
    "model02   = model"
   ]
  },
  {
   "cell_type": "markdown",
   "metadata": {
    "colab_type": "text",
    "id": "SqN2AaIOuF7v"
   },
   "source": [
    "**Visualizing loss and accuracy**"
   ]
  },
  {
   "cell_type": "code",
   "execution_count": 0,
   "metadata": {
    "colab": {
     "base_uri": "https://localhost:8080/",
     "height": 335
    },
    "colab_type": "code",
    "executionInfo": {
     "elapsed": 289509,
     "status": "ok",
     "timestamp": 1548300432223,
     "user": {
      "displayName": "柯逵悅",
      "photoUrl": "https://lh5.googleusercontent.com/-M0ECjlFPaa8/AAAAAAAAAAI/AAAAAAAAAkk/dheIQ4ShHHg/s64/photo.jpg",
      "userId": "07101215254269543390"
     },
     "user_tz": 300
    },
    "id": "wGW-xynfuF5B",
    "outputId": "0e67afc5-b6b7-414c-f624-6e13cd1c2f84"
   },
   "outputs": [
    {
     "data": {
      "image/png": "[encoded data removed]",
      "text/plain": [
       "<Figure size 720x360 with 2 Axes>"
      ]
     },
     "metadata": {
      "tags": []
     },
     "output_type": "display_data"
    }
   ],
   "source": [
    "### init\n",
    "history = history02\n",
    "\n",
    "### get accuracy and loss along the iterations\n",
    "acc      = history.history['acc']\n",
    "val_acc  = history.history['val_acc']\n",
    "loss     = history.history['loss']\n",
    "val_loss = history.history['val_loss']\n",
    "epochs   = range(1, len(acc) + 1)\n",
    "\n",
    "### plot accuracy\n",
    "fig, axes = plt.subplots(ncols=2, nrows=1, figsize = (10, 5))\n",
    "ax = axes[0]\n",
    "ax.plot(epochs, acc,     'bo', c = \"red\", label='Training acc')\n",
    "ax.plot(epochs, val_acc, 'b',  c = \"red\", label='Validation acc')\n",
    "ax.set_title('Training and validation accuracy')\n",
    "\n",
    "ax = axes[1]\n",
    "ax.plot(epochs, loss,     'bo', c = \"blue\", label='Training loss')\n",
    "ax.plot(epochs, val_loss, 'b',  c = \"blue\", label='Validation loss')\n",
    "ax.set_title('Training and validation loss')\n",
    "ax.legend()\n",
    "\n",
    "plt.show()"
   ]
  },
  {
   "cell_type": "markdown",
   "metadata": {
    "colab_type": "text",
    "id": "K_HrN78huF1s"
   },
   "source": [
    "# Overtrain by modifying the model"
   ]
  },
  {
   "cell_type": "markdown",
   "metadata": {
    "colab_type": "text",
    "id": "UiUNPJxxv6iG"
   },
   "source": [
    "**Modify the model: remove dropout**"
   ]
  },
  {
   "cell_type": "code",
   "execution_count": 0,
   "metadata": {
    "colab": {
     "base_uri": "https://localhost:8080/",
     "height": 340
    },
    "colab_type": "code",
    "executionInfo": {
     "elapsed": 289497,
     "status": "ok",
     "timestamp": 1548300432225,
     "user": {
      "displayName": "柯逵悅",
      "photoUrl": "https://lh5.googleusercontent.com/-M0ECjlFPaa8/AAAAAAAAAAI/AAAAAAAAAkk/dheIQ4ShHHg/s64/photo.jpg",
      "userId": "07101215254269543390"
     },
     "user_tz": 300
    },
    "id": "vXJidLOBuFjc",
    "outputId": "39df6bd9-5e74-443c-a191-54a717d2690b"
   },
   "outputs": [
    {
     "name": "stdout",
     "output_type": "stream",
     "text": [
      "_________________________________________________________________\n",
      "Layer (type)                 Output Shape              Param #   \n",
      "=================================================================\n",
      "conv2d_5 (Conv2D)            (None, 26, 26, 32)        320       \n",
      "_________________________________________________________________\n",
      "conv2d_6 (Conv2D)            (None, 24, 24, 64)        18496     \n",
      "_________________________________________________________________\n",
      "max_pooling2d_3 (MaxPooling2 (None, 12, 12, 64)        0         \n",
      "_________________________________________________________________\n",
      "flatten_3 (Flatten)          (None, 9216)              0         \n",
      "_________________________________________________________________\n",
      "dense_5 (Dense)              (None, 128)               1179776   \n",
      "_________________________________________________________________\n",
      "dense_6 (Dense)              (None, 10)                1290      \n",
      "=================================================================\n",
      "Total params: 1,199,882\n",
      "Trainable params: 1,199,882\n",
      "Non-trainable params: 0\n",
      "_________________________________________________________________\n"
     ]
    }
   ],
   "source": [
    "### Convolutional Neural Network\n",
    "model = Sequential()\n",
    "model.add(Conv2D(32, kernel_size=(3, 3),\n",
    "                 activation='relu',\n",
    "                 input_shape=input_shape))\n",
    "model.add(Conv2D(64, (3, 3), activation='relu'))\n",
    "model.add(MaxPooling2D(pool_size=(2, 2)))\n",
    "\n",
    "### Multilayer Perceptron (fully connected network)\n",
    "model.add(Flatten())\n",
    "model.add(Dense(128, activation='relu'))\n",
    "\n",
    "### Softmax operation\n",
    "model.add(Dense(num_classes, activation='softmax'))\n",
    "\n",
    "model.compile(loss=keras.losses.categorical_crossentropy,\n",
    "              optimizer=keras.optimizers.Adadelta(),\n",
    "              metrics=['accuracy'])\n",
    "\n",
    "### model summary\n",
    "model.summary()"
   ]
  },
  {
   "cell_type": "code",
   "execution_count": 0,
   "metadata": {
    "colab": {
     "base_uri": "https://localhost:8080/",
     "height": 3434
    },
    "colab_type": "code",
    "executionInfo": {
     "elapsed": 361894,
     "status": "ok",
     "timestamp": 1548300504643,
     "user": {
      "displayName": "柯逵悅",
      "photoUrl": "https://lh5.googleusercontent.com/-M0ECjlFPaa8/AAAAAAAAAAI/AAAAAAAAAkk/dheIQ4ShHHg/s64/photo.jpg",
      "userId": "07101215254269543390"
     },
     "user_tz": 300
    },
    "id": "nCG0zyPFuFge",
    "outputId": "cbee473d-004b-4fd5-ecbb-e8c8bfdea950"
   },
   "outputs": [
    {
     "name": "stdout",
     "output_type": "stream",
     "text": [
      "Train on 1000 samples, validate on 10000 samples\n",
      "Epoch 1/100\n",
      "1000/1000 [==============================] - 1s 1ms/step - loss: 1.6632 - acc: 0.4620 - val_loss: 1.0629 - val_acc: 0.6885\n",
      "Epoch 2/100\n",
      "1000/1000 [==============================] - 1s 705us/step - loss: 0.6152 - acc: 0.8100 - val_loss: 0.4489 - val_acc: 0.8643\n",
      "Epoch 3/100\n",
      "1000/1000 [==============================] - 1s 712us/step - loss: 0.3604 - acc: 0.8930 - val_loss: 0.3327 - val_acc: 0.8955\n",
      "Epoch 4/100\n",
      "1000/1000 [==============================] - 1s 717us/step - loss: 0.2162 - acc: 0.9350 - val_loss: 0.3346 - val_acc: 0.8940\n",
      "Epoch 5/100\n",
      "1000/1000 [==============================] - 1s 703us/step - loss: 0.1435 - acc: 0.9680 - val_loss: 0.3226 - val_acc: 0.9012\n",
      "Epoch 6/100\n",
      "1000/1000 [==============================] - 1s 715us/step - loss: 0.0936 - acc: 0.9760 - val_loss: 0.3457 - val_acc: 0.8880\n",
      "Epoch 7/100\n",
      "1000/1000 [==============================] - 1s 714us/step - loss: 0.0672 - acc: 0.9840 - val_loss: 0.3324 - val_acc: 0.8939\n",
      "Epoch 8/100\n",
      "1000/1000 [==============================] - 1s 707us/step - loss: 0.0337 - acc: 0.9950 - val_loss: 0.2494 - val_acc: 0.9284\n",
      "Epoch 9/100\n",
      "1000/1000 [==============================] - 1s 706us/step - loss: 0.0131 - acc: 1.0000 - val_loss: 0.2843 - val_acc: 0.9224\n",
      "Epoch 10/100\n",
      "1000/1000 [==============================] - 1s 716us/step - loss: 0.0104 - acc: 0.9990 - val_loss: 0.2776 - val_acc: 0.9241\n",
      "Epoch 11/100\n",
      "1000/1000 [==============================] - 1s 711us/step - loss: 0.0072 - acc: 1.0000 - val_loss: 0.2879 - val_acc: 0.9273\n",
      "Epoch 12/100\n",
      "1000/1000 [==============================] - 1s 712us/step - loss: 0.0032 - acc: 1.0000 - val_loss: 0.3128 - val_acc: 0.9219\n",
      "Epoch 13/100\n",
      "1000/1000 [==============================] - 1s 721us/step - loss: 0.0024 - acc: 1.0000 - val_loss: 0.3111 - val_acc: 0.9255\n",
      "Epoch 14/100\n",
      "1000/1000 [==============================] - 1s 715us/step - loss: 0.0017 - acc: 1.0000 - val_loss: 0.3173 - val_acc: 0.9255\n",
      "Epoch 15/100\n",
      "1000/1000 [==============================] - 1s 703us/step - loss: 0.0013 - acc: 1.0000 - val_loss: 0.3262 - val_acc: 0.9257\n",
      "Epoch 16/100\n",
      "1000/1000 [==============================] - 1s 712us/step - loss: 0.0010 - acc: 1.0000 - val_loss: 0.3354 - val_acc: 0.9257\n",
      "Epoch 17/100\n",
      "1000/1000 [==============================] - 1s 718us/step - loss: 7.6847e-04 - acc: 1.0000 - val_loss: 0.3451 - val_acc: 0.9260\n",
      "Epoch 18/100\n",
      "1000/1000 [==============================] - 1s 709us/step - loss: 6.4900e-04 - acc: 1.0000 - val_loss: 0.3581 - val_acc: 0.9241\n",
      "Epoch 19/100\n",
      "1000/1000 [==============================] - 1s 737us/step - loss: 5.1098e-04 - acc: 1.0000 - val_loss: 0.3666 - val_acc: 0.9243\n",
      "Epoch 20/100\n",
      "1000/1000 [==============================] - 1s 718us/step - loss: 4.1485e-04 - acc: 1.0000 - val_loss: 0.3742 - val_acc: 0.9249\n",
      "Epoch 21/100\n",
      "1000/1000 [==============================] - 1s 716us/step - loss: 3.5484e-04 - acc: 1.0000 - val_loss: 0.3808 - val_acc: 0.9251\n",
      "Epoch 22/100\n",
      "1000/1000 [==============================] - 1s 710us/step - loss: 3.0509e-04 - acc: 1.0000 - val_loss: 0.3876 - val_acc: 0.9243\n",
      "Epoch 23/100\n",
      "1000/1000 [==============================] - 1s 716us/step - loss: 2.6481e-04 - acc: 1.0000 - val_loss: 0.3909 - val_acc: 0.9244\n",
      "Epoch 24/100\n",
      "1000/1000 [==============================] - 1s 711us/step - loss: 2.3151e-04 - acc: 1.0000 - val_loss: 0.3968 - val_acc: 0.9240\n",
      "Epoch 25/100\n",
      "1000/1000 [==============================] - 1s 703us/step - loss: 2.0901e-04 - acc: 1.0000 - val_loss: 0.4037 - val_acc: 0.9238\n",
      "Epoch 26/100\n",
      "1000/1000 [==============================] - 1s 713us/step - loss: 1.8279e-04 - acc: 1.0000 - val_loss: 0.4067 - val_acc: 0.9238\n",
      "Epoch 27/100\n",
      "1000/1000 [==============================] - 1s 722us/step - loss: 1.7057e-04 - acc: 1.0000 - val_loss: 0.4099 - val_acc: 0.9237\n",
      "Epoch 28/100\n",
      "1000/1000 [==============================] - 1s 705us/step - loss: 1.5316e-04 - acc: 1.0000 - val_loss: 0.4159 - val_acc: 0.9238\n",
      "Epoch 29/100\n",
      "1000/1000 [==============================] - 1s 714us/step - loss: 1.4159e-04 - acc: 1.0000 - val_loss: 0.4179 - val_acc: 0.9235\n",
      "Epoch 30/100\n",
      "1000/1000 [==============================] - 1s 712us/step - loss: 1.3010e-04 - acc: 1.0000 - val_loss: 0.4199 - val_acc: 0.9240\n",
      "Epoch 31/100\n",
      "1000/1000 [==============================] - 1s 722us/step - loss: 1.2060e-04 - acc: 1.0000 - val_loss: 0.4241 - val_acc: 0.9232\n",
      "Epoch 32/100\n",
      "1000/1000 [==============================] - 1s 705us/step - loss: 1.1313e-04 - acc: 1.0000 - val_loss: 0.4262 - val_acc: 0.9236\n",
      "Epoch 33/100\n",
      "1000/1000 [==============================] - 1s 713us/step - loss: 1.0663e-04 - acc: 1.0000 - val_loss: 0.4309 - val_acc: 0.9235\n",
      "Epoch 34/100\n",
      "1000/1000 [==============================] - 1s 717us/step - loss: 1.0102e-04 - acc: 1.0000 - val_loss: 0.4318 - val_acc: 0.9235\n",
      "Epoch 35/100\n",
      "1000/1000 [==============================] - 1s 706us/step - loss: 9.3603e-05 - acc: 1.0000 - val_loss: 0.4333 - val_acc: 0.9232\n",
      "Epoch 36/100\n",
      "1000/1000 [==============================] - 1s 710us/step - loss: 9.0826e-05 - acc: 1.0000 - val_loss: 0.4360 - val_acc: 0.9233\n",
      "Epoch 37/100\n",
      "1000/1000 [==============================] - 1s 708us/step - loss: 8.5951e-05 - acc: 1.0000 - val_loss: 0.4385 - val_acc: 0.9238\n",
      "Epoch 38/100\n",
      "1000/1000 [==============================] - 1s 699us/step - loss: 8.1195e-05 - acc: 1.0000 - val_loss: 0.4406 - val_acc: 0.9234\n",
      "Epoch 39/100\n",
      "1000/1000 [==============================] - 1s 711us/step - loss: 7.7140e-05 - acc: 1.0000 - val_loss: 0.4431 - val_acc: 0.9232\n",
      "Epoch 40/100\n",
      "1000/1000 [==============================] - 1s 718us/step - loss: 7.3737e-05 - acc: 1.0000 - val_loss: 0.4436 - val_acc: 0.9239\n",
      "Epoch 41/100\n",
      "1000/1000 [==============================] - 1s 706us/step - loss: 6.9966e-05 - acc: 1.0000 - val_loss: 0.4456 - val_acc: 0.9235\n",
      "Epoch 42/100\n",
      "1000/1000 [==============================] - 1s 710us/step - loss: 6.7634e-05 - acc: 1.0000 - val_loss: 0.4475 - val_acc: 0.9234\n",
      "Epoch 43/100\n",
      "1000/1000 [==============================] - 1s 710us/step - loss: 6.4706e-05 - acc: 1.0000 - val_loss: 0.4497 - val_acc: 0.9235\n",
      "Epoch 44/100\n",
      "1000/1000 [==============================] - 1s 720us/step - loss: 6.2608e-05 - acc: 1.0000 - val_loss: 0.4510 - val_acc: 0.9236\n",
      "Epoch 45/100\n",
      "1000/1000 [==============================] - 1s 707us/step - loss: 5.9548e-05 - acc: 1.0000 - val_loss: 0.4530 - val_acc: 0.9232\n",
      "Epoch 46/100\n",
      "1000/1000 [==============================] - 1s 709us/step - loss: 5.7847e-05 - acc: 1.0000 - val_loss: 0.4544 - val_acc: 0.9235\n",
      "Epoch 47/100\n",
      "1000/1000 [==============================] - 1s 711us/step - loss: 5.5830e-05 - acc: 1.0000 - val_loss: 0.4559 - val_acc: 0.9235\n",
      "Epoch 48/100\n",
      "1000/1000 [==============================] - 1s 706us/step - loss: 5.3405e-05 - acc: 1.0000 - val_loss: 0.4573 - val_acc: 0.9232\n",
      "Epoch 49/100\n",
      "1000/1000 [==============================] - 1s 716us/step - loss: 5.2094e-05 - acc: 1.0000 - val_loss: 0.4585 - val_acc: 0.9234\n",
      "Epoch 50/100\n",
      "1000/1000 [==============================] - 1s 712us/step - loss: 5.0352e-05 - acc: 1.0000 - val_loss: 0.4600 - val_acc: 0.9232\n",
      "Epoch 51/100\n",
      "1000/1000 [==============================] - 1s 710us/step - loss: 4.8528e-05 - acc: 1.0000 - val_loss: 0.4609 - val_acc: 0.9234\n",
      "Epoch 52/100\n",
      "1000/1000 [==============================] - 1s 713us/step - loss: 4.7162e-05 - acc: 1.0000 - val_loss: 0.4624 - val_acc: 0.9235\n",
      "Epoch 53/100\n",
      "1000/1000 [==============================] - 1s 712us/step - loss: 4.5914e-05 - acc: 1.0000 - val_loss: 0.4636 - val_acc: 0.9234\n",
      "Epoch 54/100\n",
      "1000/1000 [==============================] - 1s 714us/step - loss: 4.4494e-05 - acc: 1.0000 - val_loss: 0.4647 - val_acc: 0.9234\n",
      "Epoch 55/100\n",
      "1000/1000 [==============================] - 1s 708us/step - loss: 4.3198e-05 - acc: 1.0000 - val_loss: 0.4660 - val_acc: 0.9234\n",
      "Epoch 56/100\n",
      "1000/1000 [==============================] - 1s 719us/step - loss: 4.2040e-05 - acc: 1.0000 - val_loss: 0.4672 - val_acc: 0.9235\n",
      "Epoch 57/100\n",
      "1000/1000 [==============================] - 1s 712us/step - loss: 4.0928e-05 - acc: 1.0000 - val_loss: 0.4686 - val_acc: 0.9233\n",
      "Epoch 58/100\n",
      "1000/1000 [==============================] - 1s 708us/step - loss: 3.9783e-05 - acc: 1.0000 - val_loss: 0.4694 - val_acc: 0.9232\n",
      "Epoch 59/100\n",
      "1000/1000 [==============================] - 1s 717us/step - loss: 3.8943e-05 - acc: 1.0000 - val_loss: 0.4708 - val_acc: 0.9232\n",
      "Epoch 60/100\n",
      "1000/1000 [==============================] - 1s 720us/step - loss: 3.7834e-05 - acc: 1.0000 - val_loss: 0.4719 - val_acc: 0.9234\n",
      "Epoch 61/100\n",
      "1000/1000 [==============================] - 1s 705us/step - loss: 3.6843e-05 - acc: 1.0000 - val_loss: 0.4723 - val_acc: 0.9234\n",
      "Epoch 62/100\n",
      "1000/1000 [==============================] - 1s 717us/step - loss: 3.6034e-05 - acc: 1.0000 - val_loss: 0.4734 - val_acc: 0.9234\n",
      "Epoch 63/100\n",
      "1000/1000 [==============================] - 1s 717us/step - loss: 3.5126e-05 - acc: 1.0000 - val_loss: 0.4745 - val_acc: 0.9234\n",
      "Epoch 64/100\n",
      "1000/1000 [==============================] - 1s 704us/step - loss: 3.4435e-05 - acc: 1.0000 - val_loss: 0.4755 - val_acc: 0.9234\n",
      "Epoch 65/100\n",
      "1000/1000 [==============================] - 1s 713us/step - loss: 3.3530e-05 - acc: 1.0000 - val_loss: 0.4763 - val_acc: 0.9234\n",
      "Epoch 66/100\n",
      "1000/1000 [==============================] - 1s 709us/step - loss: 3.2782e-05 - acc: 1.0000 - val_loss: 0.4772 - val_acc: 0.9233\n",
      "Epoch 67/100\n",
      "1000/1000 [==============================] - 1s 716us/step - loss: 3.2194e-05 - acc: 1.0000 - val_loss: 0.4781 - val_acc: 0.9233\n",
      "Epoch 68/100\n",
      "1000/1000 [==============================] - 1s 708us/step - loss: 3.1495e-05 - acc: 1.0000 - val_loss: 0.4789 - val_acc: 0.9234\n",
      "Epoch 69/100\n",
      "1000/1000 [==============================] - 1s 711us/step - loss: 3.0774e-05 - acc: 1.0000 - val_loss: 0.4797 - val_acc: 0.9236\n",
      "Epoch 70/100\n",
      "1000/1000 [==============================] - 1s 721us/step - loss: 3.0197e-05 - acc: 1.0000 - val_loss: 0.4803 - val_acc: 0.9234\n",
      "Epoch 71/100\n",
      "1000/1000 [==============================] - 1s 707us/step - loss: 2.9583e-05 - acc: 1.0000 - val_loss: 0.4811 - val_acc: 0.9234\n",
      "Epoch 72/100\n",
      "1000/1000 [==============================] - 1s 716us/step - loss: 2.8916e-05 - acc: 1.0000 - val_loss: 0.4818 - val_acc: 0.9234\n",
      "Epoch 73/100\n",
      "1000/1000 [==============================] - 1s 717us/step - loss: 2.8398e-05 - acc: 1.0000 - val_loss: 0.4827 - val_acc: 0.9234\n",
      "Epoch 74/100\n",
      "1000/1000 [==============================] - 1s 705us/step - loss: 2.7862e-05 - acc: 1.0000 - val_loss: 0.4836 - val_acc: 0.9233\n",
      "Epoch 75/100\n",
      "1000/1000 [==============================] - 1s 714us/step - loss: 2.7368e-05 - acc: 1.0000 - val_loss: 0.4841 - val_acc: 0.9234\n",
      "Epoch 76/100\n",
      "1000/1000 [==============================] - 1s 722us/step - loss: 2.6828e-05 - acc: 1.0000 - val_loss: 0.4850 - val_acc: 0.9234\n",
      "Epoch 77/100\n",
      "1000/1000 [==============================] - 1s 705us/step - loss: 2.6373e-05 - acc: 1.0000 - val_loss: 0.4855 - val_acc: 0.9234\n",
      "Epoch 78/100\n",
      "1000/1000 [==============================] - 1s 713us/step - loss: 2.5854e-05 - acc: 1.0000 - val_loss: 0.4864 - val_acc: 0.9233\n",
      "Epoch 79/100\n",
      "1000/1000 [==============================] - 1s 717us/step - loss: 2.5457e-05 - acc: 1.0000 - val_loss: 0.4872 - val_acc: 0.9234\n",
      "Epoch 80/100\n",
      "1000/1000 [==============================] - 1s 717us/step - loss: 2.4992e-05 - acc: 1.0000 - val_loss: 0.4879 - val_acc: 0.9234\n",
      "Epoch 81/100\n",
      "1000/1000 [==============================] - 1s 715us/step - loss: 2.4550e-05 - acc: 1.0000 - val_loss: 0.4886 - val_acc: 0.9234\n",
      "Epoch 82/100\n",
      "1000/1000 [==============================] - 1s 718us/step - loss: 2.4172e-05 - acc: 1.0000 - val_loss: 0.4892 - val_acc: 0.9234\n",
      "Epoch 83/100\n",
      "1000/1000 [==============================] - 1s 729us/step - loss: 2.3801e-05 - acc: 1.0000 - val_loss: 0.4900 - val_acc: 0.9233\n",
      "Epoch 84/100\n",
      "1000/1000 [==============================] - 1s 704us/step - loss: 2.3379e-05 - acc: 1.0000 - val_loss: 0.4905 - val_acc: 0.9231\n",
      "Epoch 85/100\n",
      "1000/1000 [==============================] - 1s 708us/step - loss: 2.2926e-05 - acc: 1.0000 - val_loss: 0.4910 - val_acc: 0.9230\n",
      "Epoch 86/100\n",
      "1000/1000 [==============================] - 1s 718us/step - loss: 2.2583e-05 - acc: 1.0000 - val_loss: 0.4916 - val_acc: 0.9230\n",
      "Epoch 87/100\n",
      "1000/1000 [==============================] - 1s 715us/step - loss: 2.2312e-05 - acc: 1.0000 - val_loss: 0.4920 - val_acc: 0.9230\n",
      "Epoch 88/100\n",
      "1000/1000 [==============================] - 1s 711us/step - loss: 2.1961e-05 - acc: 1.0000 - val_loss: 0.4928 - val_acc: 0.9232\n",
      "Epoch 89/100\n",
      "1000/1000 [==============================] - 1s 725us/step - loss: 2.1633e-05 - acc: 1.0000 - val_loss: 0.4934 - val_acc: 0.9233\n",
      "Epoch 90/100\n",
      "1000/1000 [==============================] - 1s 711us/step - loss: 2.1295e-05 - acc: 1.0000 - val_loss: 0.4937 - val_acc: 0.9232\n",
      "Epoch 91/100\n",
      "1000/1000 [==============================] - 1s 710us/step - loss: 2.0988e-05 - acc: 1.0000 - val_loss: 0.4944 - val_acc: 0.9232\n",
      "Epoch 92/100\n",
      "1000/1000 [==============================] - 1s 709us/step - loss: 2.0631e-05 - acc: 1.0000 - val_loss: 0.4951 - val_acc: 0.9232\n",
      "Epoch 93/100\n",
      "1000/1000 [==============================] - 1s 716us/step - loss: 2.0369e-05 - acc: 1.0000 - val_loss: 0.4957 - val_acc: 0.9232\n",
      "Epoch 94/100\n",
      "1000/1000 [==============================] - 1s 707us/step - loss: 2.0104e-05 - acc: 1.0000 - val_loss: 0.4962 - val_acc: 0.9232\n",
      "Epoch 95/100\n",
      "1000/1000 [==============================] - 1s 720us/step - loss: 1.9815e-05 - acc: 1.0000 - val_loss: 0.4965 - val_acc: 0.9232\n",
      "Epoch 96/100\n",
      "1000/1000 [==============================] - 1s 717us/step - loss: 1.9524e-05 - acc: 1.0000 - val_loss: 0.4972 - val_acc: 0.9232\n",
      "Epoch 97/100\n",
      "1000/1000 [==============================] - 1s 703us/step - loss: 1.9277e-05 - acc: 1.0000 - val_loss: 0.4978 - val_acc: 0.9232\n",
      "Epoch 98/100\n",
      "1000/1000 [==============================] - 1s 715us/step - loss: 1.9041e-05 - acc: 1.0000 - val_loss: 0.4983 - val_acc: 0.9232\n",
      "Epoch 99/100\n",
      "1000/1000 [==============================] - 1s 721us/step - loss: 1.8764e-05 - acc: 1.0000 - val_loss: 0.4990 - val_acc: 0.9231\n",
      "Epoch 100/100\n",
      "1000/1000 [==============================] - 1s 701us/step - loss: 1.8493e-05 - acc: 1.0000 - val_loss: 0.4994 - val_acc: 0.9232\n"
     ]
    }
   ],
   "source": [
    "### define number of epoch\n",
    "epochs     = 100\n",
    "batch_size = 64\n",
    "\n",
    "### fit the model\n",
    "history = model.fit(\n",
    "    x_train_red, y_train_red,\n",
    "    batch_size=batch_size,\n",
    "    epochs=epochs,\n",
    "    verbose=1,\n",
    "    validation_data=(x_test, y_test))\n",
    "\n",
    "### Store the results\n",
    "history03 = history\n",
    "model03   = model"
   ]
  },
  {
   "cell_type": "code",
   "execution_count": 0,
   "metadata": {
    "colab": {
     "base_uri": "https://localhost:8080/",
     "height": 335
    },
    "colab_type": "code",
    "executionInfo": {
     "elapsed": 362486,
     "status": "ok",
     "timestamp": 1548300505247,
     "user": {
      "displayName": "柯逵悅",
      "photoUrl": "https://lh5.googleusercontent.com/-M0ECjlFPaa8/AAAAAAAAAAI/AAAAAAAAAkk/dheIQ4ShHHg/s64/photo.jpg",
      "userId": "07101215254269543390"
     },
     "user_tz": 300
    },
    "id": "-RlljXy9uFc_",
    "outputId": "65d6394d-3668-433d-9c78-1eb4c067778e"
   },
   "outputs": [
    {
     "data": {
      "image/png": "[encoded data removed]",
      "text/plain": [
       "<Figure size 720x360 with 2 Axes>"
      ]
     },
     "metadata": {
      "tags": []
     },
     "output_type": "display_data"
    }
   ],
   "source": [
    "### init\n",
    "history = history03\n",
    "\n",
    "### get accuracy and loss along the iterations\n",
    "acc      = history.history['acc']\n",
    "val_acc  = history.history['val_acc']\n",
    "loss     = history.history['loss']\n",
    "val_loss = history.history['val_loss']\n",
    "epochs   = range(1, len(acc) + 1)\n",
    "\n",
    "### plot accuracy\n",
    "fig, axes = plt.subplots(ncols=2, nrows=1, figsize = (10, 5))\n",
    "ax = axes[0]\n",
    "ax.plot(epochs, acc,     'bo', c = \"red\", label='Training acc')\n",
    "ax.plot(epochs, val_acc, 'b',  c = \"red\", label='Validation acc')\n",
    "ax.set_title('Training and validation accuracy')\n",
    "\n",
    "ax = axes[1]\n",
    "ax.plot(epochs, loss,     'bo', c = \"blue\", label='Training loss')\n",
    "ax.plot(epochs, val_loss, 'b',  c = \"blue\", label='Validation loss')\n",
    "ax.set_title('Training and validation loss')\n",
    "ax.legend()\n",
    "\n",
    "plt.show()"
   ]
  },
  {
   "cell_type": "markdown",
   "metadata": {
    "colab_type": "text",
    "id": "396Af4WK3Wnb"
   },
   "source": [
    "# Keep increasing the model"
   ]
  },
  {
   "cell_type": "code",
   "execution_count": 8,
   "metadata": {
    "colab": {
     "base_uri": "https://localhost:8080/",
     "height": 408
    },
    "colab_type": "code",
    "executionInfo": {
     "elapsed": 549,
     "status": "ok",
     "timestamp": 1548374378644,
     "user": {
      "displayName": "柯逵悅",
      "photoUrl": "https://lh5.googleusercontent.com/-M0ECjlFPaa8/AAAAAAAAAAI/AAAAAAAAAkk/dheIQ4ShHHg/s64/photo.jpg",
      "userId": "07101215254269543390"
     },
     "user_tz": 300
    },
    "id": "fFQH1pPoS8Sf",
    "outputId": "c6ff7928-bfb4-4594-8d18-5f5c7bcecaca"
   },
   "outputs": [
    {
     "name": "stdout",
     "output_type": "stream",
     "text": [
      "_________________________________________________________________\n",
      "Layer (type)                 Output Shape              Param #   \n",
      "=================================================================\n",
      "conv2d_1 (Conv2D)            (None, 26, 26, 32)        320       \n",
      "_________________________________________________________________\n",
      "conv2d_2 (Conv2D)            (None, 24, 24, 64)        18496     \n",
      "_________________________________________________________________\n",
      "conv2d_3 (Conv2D)            (None, 22, 22, 64)        36928     \n",
      "_________________________________________________________________\n",
      "max_pooling2d_1 (MaxPooling2 (None, 11, 11, 64)        0         \n",
      "_________________________________________________________________\n",
      "flatten_1 (Flatten)          (None, 7744)              0         \n",
      "_________________________________________________________________\n",
      "dense_1 (Dense)              (None, 128)               991360    \n",
      "_________________________________________________________________\n",
      "dense_2 (Dense)              (None, 128)               16512     \n",
      "_________________________________________________________________\n",
      "dense_3 (Dense)              (None, 10)                1290      \n",
      "=================================================================\n",
      "Total params: 1,064,906\n",
      "Trainable params: 1,064,906\n",
      "Non-trainable params: 0\n",
      "_________________________________________________________________\n"
     ]
    }
   ],
   "source": [
    "### Convolutional Neural Network\n",
    "model = Sequential()\n",
    "model.add(Conv2D(32, kernel_size=(3, 3),\n",
    "                 activation='relu',\n",
    "                 input_shape=input_shape))\n",
    "model.add(Conv2D(64, (3, 3), activation='relu'))\n",
    "\n",
    "### add one more conv2d layer\n",
    "model.add(Conv2D(64, (3, 3), activation='relu'))\n",
    "model.add(MaxPooling2D(pool_size=(2, 2)))\n",
    "\n",
    "### Multilayer Perceptron (fully connected network)\n",
    "model.add(Flatten())\n",
    "model.add(Dense(128, activation='relu'))\n",
    "\n",
    "### add one more dense layer\n",
    "model.add(Dense(128, activation='relu'))\n",
    "\n",
    "### Softmax operation\n",
    "model.add(Dense(num_classes, activation='softmax'))\n",
    "\n",
    "model.compile(loss=keras.losses.categorical_crossentropy,\n",
    "              optimizer=keras.optimizers.Adadelta(),\n",
    "              metrics=['accuracy'])\n",
    "\n",
    "### model summary\n",
    "model.summary()"
   ]
  },
  {
   "cell_type": "code",
   "execution_count": 10,
   "metadata": {
    "colab": {
     "base_uri": "https://localhost:8080/",
     "height": 3434
    },
    "colab_type": "code",
    "executionInfo": {
     "elapsed": 117094,
     "status": "ok",
     "timestamp": 1548374590779,
     "user": {
      "displayName": "柯逵悅",
      "photoUrl": "https://lh5.googleusercontent.com/-M0ECjlFPaa8/AAAAAAAAAAI/AAAAAAAAAkk/dheIQ4ShHHg/s64/photo.jpg",
      "userId": "07101215254269543390"
     },
     "user_tz": 300
    },
    "id": "ID5sUcfwTgWm",
    "outputId": "f25c6b95-6b5d-4b59-bc8c-36cfc1da63d6"
   },
   "outputs": [
    {
     "name": "stdout",
     "output_type": "stream",
     "text": [
      "Train on 1000 samples, validate on 10000 samples\n",
      "Epoch 1/100\n",
      "1000/1000 [==============================] - 4s 4ms/step - loss: 1.8570 - acc: 0.3700 - val_loss: 1.8040 - val_acc: 0.3898\n",
      "Epoch 2/100\n",
      "1000/1000 [==============================] - 1s 1ms/step - loss: 0.9303 - acc: 0.7000 - val_loss: 1.5768 - val_acc: 0.5239\n",
      "Epoch 3/100\n",
      "1000/1000 [==============================] - 1s 1ms/step - loss: 0.5540 - acc: 0.8260 - val_loss: 0.3554 - val_acc: 0.8900\n",
      "Epoch 4/100\n",
      "1000/1000 [==============================] - 1s 1ms/step - loss: 0.2380 - acc: 0.9220 - val_loss: 0.3727 - val_acc: 0.8874\n",
      "Epoch 5/100\n",
      "1000/1000 [==============================] - 1s 1ms/step - loss: 0.1711 - acc: 0.9430 - val_loss: 0.3502 - val_acc: 0.8964\n",
      "Epoch 6/100\n",
      "1000/1000 [==============================] - 1s 1ms/step - loss: 0.0988 - acc: 0.9740 - val_loss: 0.3273 - val_acc: 0.9108\n",
      "Epoch 7/100\n",
      "1000/1000 [==============================] - 1s 1ms/step - loss: 0.0524 - acc: 0.9850 - val_loss: 0.3099 - val_acc: 0.9173\n",
      "Epoch 8/100\n",
      "1000/1000 [==============================] - 1s 1ms/step - loss: 0.0246 - acc: 0.9960 - val_loss: 0.3006 - val_acc: 0.9201\n",
      "Epoch 9/100\n",
      "1000/1000 [==============================] - 1s 1ms/step - loss: 0.0109 - acc: 1.0000 - val_loss: 0.2861 - val_acc: 0.9300\n",
      "Epoch 10/100\n",
      "1000/1000 [==============================] - 1s 1ms/step - loss: 0.0034 - acc: 1.0000 - val_loss: 0.3177 - val_acc: 0.9315\n",
      "Epoch 11/100\n",
      "1000/1000 [==============================] - 1s 1ms/step - loss: 0.0016 - acc: 1.0000 - val_loss: 0.3005 - val_acc: 0.9332\n",
      "Epoch 12/100\n",
      "1000/1000 [==============================] - 1s 1ms/step - loss: 7.9197e-04 - acc: 1.0000 - val_loss: 0.3138 - val_acc: 0.9352\n",
      "Epoch 13/100\n",
      "1000/1000 [==============================] - 1s 1ms/step - loss: 5.6597e-04 - acc: 1.0000 - val_loss: 0.3262 - val_acc: 0.9330\n",
      "Epoch 14/100\n",
      "1000/1000 [==============================] - 1s 1ms/step - loss: 4.1424e-04 - acc: 1.0000 - val_loss: 0.3343 - val_acc: 0.9328\n",
      "Epoch 15/100\n",
      "1000/1000 [==============================] - 1s 1ms/step - loss: 3.2000e-04 - acc: 1.0000 - val_loss: 0.3452 - val_acc: 0.9337\n",
      "Epoch 16/100\n",
      "1000/1000 [==============================] - 1s 1ms/step - loss: 2.4198e-04 - acc: 1.0000 - val_loss: 0.3537 - val_acc: 0.9336\n",
      "Epoch 17/100\n",
      "1000/1000 [==============================] - 1s 1ms/step - loss: 1.8877e-04 - acc: 1.0000 - val_loss: 0.3637 - val_acc: 0.9334\n",
      "Epoch 18/100\n",
      "1000/1000 [==============================] - 1s 1ms/step - loss: 1.5341e-04 - acc: 1.0000 - val_loss: 0.3714 - val_acc: 0.9329\n",
      "Epoch 19/100\n",
      "1000/1000 [==============================] - 1s 1ms/step - loss: 1.2524e-04 - acc: 1.0000 - val_loss: 0.3778 - val_acc: 0.9329\n",
      "Epoch 20/100\n",
      "1000/1000 [==============================] - 1s 1ms/step - loss: 1.0369e-04 - acc: 1.0000 - val_loss: 0.3865 - val_acc: 0.9327\n",
      "Epoch 21/100\n",
      "1000/1000 [==============================] - 1s 1ms/step - loss: 8.8724e-05 - acc: 1.0000 - val_loss: 0.3935 - val_acc: 0.9323\n",
      "Epoch 22/100\n",
      "1000/1000 [==============================] - 1s 1ms/step - loss: 7.5892e-05 - acc: 1.0000 - val_loss: 0.3943 - val_acc: 0.9332\n",
      "Epoch 23/100\n",
      "1000/1000 [==============================] - 1s 1ms/step - loss: 6.6158e-05 - acc: 1.0000 - val_loss: 0.4013 - val_acc: 0.9324\n",
      "Epoch 24/100\n",
      "1000/1000 [==============================] - 1s 1ms/step - loss: 5.9428e-05 - acc: 1.0000 - val_loss: 0.4051 - val_acc: 0.9324\n",
      "Epoch 25/100\n",
      "1000/1000 [==============================] - 1s 1ms/step - loss: 5.3133e-05 - acc: 1.0000 - val_loss: 0.4090 - val_acc: 0.9321\n",
      "Epoch 26/100\n",
      "1000/1000 [==============================] - 1s 1ms/step - loss: 4.8100e-05 - acc: 1.0000 - val_loss: 0.4125 - val_acc: 0.9326\n",
      "Epoch 27/100\n",
      "1000/1000 [==============================] - 1s 1ms/step - loss: 4.4066e-05 - acc: 1.0000 - val_loss: 0.4153 - val_acc: 0.9324\n",
      "Epoch 28/100\n",
      "1000/1000 [==============================] - 1s 1ms/step - loss: 4.0419e-05 - acc: 1.0000 - val_loss: 0.4189 - val_acc: 0.9325\n",
      "Epoch 29/100\n",
      "1000/1000 [==============================] - 1s 1ms/step - loss: 3.7276e-05 - acc: 1.0000 - val_loss: 0.4212 - val_acc: 0.9325\n",
      "Epoch 30/100\n",
      "1000/1000 [==============================] - 1s 1ms/step - loss: 3.4879e-05 - acc: 1.0000 - val_loss: 0.4240 - val_acc: 0.9325\n",
      "Epoch 31/100\n",
      "1000/1000 [==============================] - 1s 1ms/step - loss: 3.2771e-05 - acc: 1.0000 - val_loss: 0.4268 - val_acc: 0.9321\n",
      "Epoch 32/100\n",
      "1000/1000 [==============================] - 1s 1ms/step - loss: 3.0526e-05 - acc: 1.0000 - val_loss: 0.4288 - val_acc: 0.9320\n",
      "Epoch 33/100\n",
      "1000/1000 [==============================] - 1s 1ms/step - loss: 2.8677e-05 - acc: 1.0000 - val_loss: 0.4296 - val_acc: 0.9326\n",
      "Epoch 34/100\n",
      "1000/1000 [==============================] - 1s 1ms/step - loss: 2.7102e-05 - acc: 1.0000 - val_loss: 0.4317 - val_acc: 0.9327\n",
      "Epoch 35/100\n",
      "1000/1000 [==============================] - 1s 1ms/step - loss: 2.5705e-05 - acc: 1.0000 - val_loss: 0.4338 - val_acc: 0.9324\n",
      "Epoch 36/100\n",
      "1000/1000 [==============================] - 1s 1ms/step - loss: 2.4353e-05 - acc: 1.0000 - val_loss: 0.4356 - val_acc: 0.9321\n",
      "Epoch 37/100\n",
      "1000/1000 [==============================] - 1s 1ms/step - loss: 2.3226e-05 - acc: 1.0000 - val_loss: 0.4376 - val_acc: 0.9323\n",
      "Epoch 38/100\n",
      "1000/1000 [==============================] - 1s 1ms/step - loss: 2.2071e-05 - acc: 1.0000 - val_loss: 0.4393 - val_acc: 0.9322\n",
      "Epoch 39/100\n",
      "1000/1000 [==============================] - 1s 1ms/step - loss: 2.1059e-05 - acc: 1.0000 - val_loss: 0.4416 - val_acc: 0.9320\n",
      "Epoch 40/100\n",
      "1000/1000 [==============================] - 1s 1ms/step - loss: 2.0239e-05 - acc: 1.0000 - val_loss: 0.4434 - val_acc: 0.9315\n",
      "Epoch 41/100\n",
      "1000/1000 [==============================] - 1s 1ms/step - loss: 1.9407e-05 - acc: 1.0000 - val_loss: 0.4443 - val_acc: 0.9319\n",
      "Epoch 42/100\n",
      "1000/1000 [==============================] - 1s 1ms/step - loss: 1.8559e-05 - acc: 1.0000 - val_loss: 0.4454 - val_acc: 0.9318\n",
      "Epoch 43/100\n",
      "1000/1000 [==============================] - 1s 1ms/step - loss: 1.7867e-05 - acc: 1.0000 - val_loss: 0.4468 - val_acc: 0.9322\n",
      "Epoch 44/100\n",
      "1000/1000 [==============================] - 1s 1ms/step - loss: 1.7257e-05 - acc: 1.0000 - val_loss: 0.4480 - val_acc: 0.9321\n",
      "Epoch 45/100\n",
      "1000/1000 [==============================] - 1s 1ms/step - loss: 1.6650e-05 - acc: 1.0000 - val_loss: 0.4491 - val_acc: 0.9321\n",
      "Epoch 46/100\n",
      "1000/1000 [==============================] - 1s 1ms/step - loss: 1.6043e-05 - acc: 1.0000 - val_loss: 0.4506 - val_acc: 0.9321\n",
      "Epoch 47/100\n",
      "1000/1000 [==============================] - 1s 1ms/step - loss: 1.5465e-05 - acc: 1.0000 - val_loss: 0.4517 - val_acc: 0.9320\n",
      "Epoch 48/100\n",
      "1000/1000 [==============================] - 1s 1ms/step - loss: 1.4968e-05 - acc: 1.0000 - val_loss: 0.4529 - val_acc: 0.9320\n",
      "Epoch 49/100\n",
      "1000/1000 [==============================] - 1s 1ms/step - loss: 1.4460e-05 - acc: 1.0000 - val_loss: 0.4539 - val_acc: 0.9320\n",
      "Epoch 50/100\n",
      "1000/1000 [==============================] - 1s 1ms/step - loss: 1.4033e-05 - acc: 1.0000 - val_loss: 0.4550 - val_acc: 0.9321\n",
      "Epoch 51/100\n",
      "1000/1000 [==============================] - 1s 1ms/step - loss: 1.3617e-05 - acc: 1.0000 - val_loss: 0.4559 - val_acc: 0.9319\n",
      "Epoch 52/100\n",
      "1000/1000 [==============================] - 1s 1ms/step - loss: 1.3258e-05 - acc: 1.0000 - val_loss: 0.4574 - val_acc: 0.9319\n",
      "Epoch 53/100\n",
      "1000/1000 [==============================] - 1s 1ms/step - loss: 1.2887e-05 - acc: 1.0000 - val_loss: 0.4580 - val_acc: 0.9321\n",
      "Epoch 54/100\n",
      "1000/1000 [==============================] - 1s 1ms/step - loss: 1.2495e-05 - acc: 1.0000 - val_loss: 0.4589 - val_acc: 0.9320\n",
      "Epoch 55/100\n",
      "1000/1000 [==============================] - 1s 1ms/step - loss: 1.2138e-05 - acc: 1.0000 - val_loss: 0.4599 - val_acc: 0.9319\n",
      "Epoch 56/100\n",
      "1000/1000 [==============================] - 1s 1ms/step - loss: 1.1822e-05 - acc: 1.0000 - val_loss: 0.4609 - val_acc: 0.9319\n",
      "Epoch 57/100\n",
      "1000/1000 [==============================] - 1s 1ms/step - loss: 1.1507e-05 - acc: 1.0000 - val_loss: 0.4617 - val_acc: 0.9320\n",
      "Epoch 58/100\n",
      "1000/1000 [==============================] - 1s 1ms/step - loss: 1.1237e-05 - acc: 1.0000 - val_loss: 0.4626 - val_acc: 0.9319\n",
      "Epoch 59/100\n",
      "1000/1000 [==============================] - 1s 1ms/step - loss: 1.0933e-05 - acc: 1.0000 - val_loss: 0.4635 - val_acc: 0.9318\n",
      "Epoch 60/100\n",
      "1000/1000 [==============================] - 1s 1ms/step - loss: 1.0687e-05 - acc: 1.0000 - val_loss: 0.4642 - val_acc: 0.9320\n",
      "Epoch 61/100\n",
      "1000/1000 [==============================] - 1s 1ms/step - loss: 1.0432e-05 - acc: 1.0000 - val_loss: 0.4650 - val_acc: 0.9320\n",
      "Epoch 62/100\n",
      "1000/1000 [==============================] - 1s 1ms/step - loss: 1.0187e-05 - acc: 1.0000 - val_loss: 0.4659 - val_acc: 0.9320\n",
      "Epoch 63/100\n",
      "1000/1000 [==============================] - 1s 1ms/step - loss: 9.9586e-06 - acc: 1.0000 - val_loss: 0.4667 - val_acc: 0.9320\n",
      "Epoch 64/100\n",
      "1000/1000 [==============================] - 1s 1ms/step - loss: 9.7269e-06 - acc: 1.0000 - val_loss: 0.4674 - val_acc: 0.9319\n",
      "Epoch 65/100\n",
      "1000/1000 [==============================] - 1s 1ms/step - loss: 9.5372e-06 - acc: 1.0000 - val_loss: 0.4683 - val_acc: 0.9318\n",
      "Epoch 66/100\n",
      "1000/1000 [==============================] - 1s 1ms/step - loss: 9.3268e-06 - acc: 1.0000 - val_loss: 0.4688 - val_acc: 0.9319\n",
      "Epoch 67/100\n",
      "1000/1000 [==============================] - 1s 1ms/step - loss: 9.1471e-06 - acc: 1.0000 - val_loss: 0.4694 - val_acc: 0.9320\n",
      "Epoch 68/100\n",
      "1000/1000 [==============================] - 1s 1ms/step - loss: 8.9586e-06 - acc: 1.0000 - val_loss: 0.4703 - val_acc: 0.9319\n",
      "Epoch 69/100\n",
      "1000/1000 [==============================] - 1s 1ms/step - loss: 8.7566e-06 - acc: 1.0000 - val_loss: 0.4709 - val_acc: 0.9320\n",
      "Epoch 70/100\n",
      "1000/1000 [==============================] - 1s 1ms/step - loss: 8.5920e-06 - acc: 1.0000 - val_loss: 0.4716 - val_acc: 0.9318\n",
      "Epoch 71/100\n",
      "1000/1000 [==============================] - 1s 1ms/step - loss: 8.4027e-06 - acc: 1.0000 - val_loss: 0.4723 - val_acc: 0.9319\n",
      "Epoch 72/100\n",
      "1000/1000 [==============================] - 1s 1ms/step - loss: 8.2686e-06 - acc: 1.0000 - val_loss: 0.4730 - val_acc: 0.9318\n",
      "Epoch 73/100\n",
      "1000/1000 [==============================] - 1s 1ms/step - loss: 8.0989e-06 - acc: 1.0000 - val_loss: 0.4735 - val_acc: 0.9319\n",
      "Epoch 74/100\n",
      "1000/1000 [==============================] - 1s 1ms/step - loss: 7.9544e-06 - acc: 1.0000 - val_loss: 0.4740 - val_acc: 0.9319\n",
      "Epoch 75/100\n",
      "1000/1000 [==============================] - 1s 1ms/step - loss: 7.8092e-06 - acc: 1.0000 - val_loss: 0.4748 - val_acc: 0.9318\n",
      "Epoch 76/100\n",
      "1000/1000 [==============================] - 1s 1ms/step - loss: 7.6611e-06 - acc: 1.0000 - val_loss: 0.4753 - val_acc: 0.9319\n",
      "Epoch 77/100\n",
      "1000/1000 [==============================] - 1s 1ms/step - loss: 7.5232e-06 - acc: 1.0000 - val_loss: 0.4759 - val_acc: 0.9318\n",
      "Epoch 78/100\n",
      "1000/1000 [==============================] - 1s 1ms/step - loss: 7.3979e-06 - acc: 1.0000 - val_loss: 0.4764 - val_acc: 0.9318\n",
      "Epoch 79/100\n",
      "1000/1000 [==============================] - 1s 1ms/step - loss: 7.2615e-06 - acc: 1.0000 - val_loss: 0.4772 - val_acc: 0.9320\n",
      "Epoch 80/100\n",
      "1000/1000 [==============================] - 1s 1ms/step - loss: 7.1435e-06 - acc: 1.0000 - val_loss: 0.4777 - val_acc: 0.9320\n",
      "Epoch 81/100\n",
      "1000/1000 [==============================] - 1s 1ms/step - loss: 7.0165e-06 - acc: 1.0000 - val_loss: 0.4782 - val_acc: 0.9320\n",
      "Epoch 82/100\n",
      "1000/1000 [==============================] - 1s 1ms/step - loss: 6.9063e-06 - acc: 1.0000 - val_loss: 0.4787 - val_acc: 0.9320\n",
      "Epoch 83/100\n",
      "1000/1000 [==============================] - 1s 1ms/step - loss: 6.7978e-06 - acc: 1.0000 - val_loss: 0.4792 - val_acc: 0.9319\n",
      "Epoch 84/100\n",
      "1000/1000 [==============================] - 1s 1ms/step - loss: 6.6829e-06 - acc: 1.0000 - val_loss: 0.4798 - val_acc: 0.9319\n",
      "Epoch 85/100\n",
      "1000/1000 [==============================] - 1s 1ms/step - loss: 6.5803e-06 - acc: 1.0000 - val_loss: 0.4804 - val_acc: 0.9321\n",
      "Epoch 86/100\n",
      "1000/1000 [==============================] - 1s 1ms/step - loss: 6.4699e-06 - acc: 1.0000 - val_loss: 0.4807 - val_acc: 0.9320\n",
      "Epoch 87/100\n",
      "1000/1000 [==============================] - 1s 1ms/step - loss: 6.3837e-06 - acc: 1.0000 - val_loss: 0.4812 - val_acc: 0.9319\n",
      "Epoch 88/100\n",
      "1000/1000 [==============================] - 1s 1ms/step - loss: 6.2889e-06 - acc: 1.0000 - val_loss: 0.4817 - val_acc: 0.9319\n",
      "Epoch 89/100\n",
      "1000/1000 [==============================] - 1s 1ms/step - loss: 6.1914e-06 - acc: 1.0000 - val_loss: 0.4823 - val_acc: 0.9319\n",
      "Epoch 90/100\n",
      "1000/1000 [==============================] - 1s 1ms/step - loss: 6.0974e-06 - acc: 1.0000 - val_loss: 0.4828 - val_acc: 0.9320\n",
      "Epoch 91/100\n",
      "1000/1000 [==============================] - 1s 1ms/step - loss: 6.0246e-06 - acc: 1.0000 - val_loss: 0.4831 - val_acc: 0.9320\n",
      "Epoch 92/100\n",
      "1000/1000 [==============================] - 2s 2ms/step - loss: 5.9315e-06 - acc: 1.0000 - val_loss: 0.4837 - val_acc: 0.9320\n",
      "Epoch 93/100\n",
      "1000/1000 [==============================] - 1s 1ms/step - loss: 5.8571e-06 - acc: 1.0000 - val_loss: 0.4842 - val_acc: 0.9319\n",
      "Epoch 94/100\n",
      "1000/1000 [==============================] - 1s 1ms/step - loss: 5.7671e-06 - acc: 1.0000 - val_loss: 0.4846 - val_acc: 0.9319\n",
      "Epoch 95/100\n",
      "1000/1000 [==============================] - 1s 1ms/step - loss: 5.6840e-06 - acc: 1.0000 - val_loss: 0.4851 - val_acc: 0.9319\n",
      "Epoch 96/100\n",
      "1000/1000 [==============================] - 1s 1ms/step - loss: 5.6179e-06 - acc: 1.0000 - val_loss: 0.4855 - val_acc: 0.9319\n",
      "Epoch 97/100\n",
      "1000/1000 [==============================] - 1s 1ms/step - loss: 5.5402e-06 - acc: 1.0000 - val_loss: 0.4859 - val_acc: 0.9320\n",
      "Epoch 98/100\n",
      "1000/1000 [==============================] - 1s 1ms/step - loss: 5.4641e-06 - acc: 1.0000 - val_loss: 0.4863 - val_acc: 0.9319\n",
      "Epoch 99/100\n",
      "1000/1000 [==============================] - 1s 1ms/step - loss: 5.3932e-06 - acc: 1.0000 - val_loss: 0.4867 - val_acc: 0.9320\n",
      "Epoch 100/100\n",
      "1000/1000 [==============================] - 1s 1ms/step - loss: 5.3236e-06 - acc: 1.0000 - val_loss: 0.4872 - val_acc: 0.9320\n"
     ]
    }
   ],
   "source": [
    "### define number of epoch\n",
    "epochs     = 100\n",
    "batch_size = 64\n",
    "\n",
    "### fit the model\n",
    "history = model.fit(\n",
    "    x_train_red, y_train_red,\n",
    "    batch_size=batch_size,\n",
    "    epochs=epochs,\n",
    "    verbose=1,\n",
    "    validation_data=(x_test, y_test))\n",
    "\n",
    "### Store the results\n",
    "history04 = history\n",
    "model04   = model"
   ]
  },
  {
   "cell_type": "code",
   "execution_count": 11,
   "metadata": {
    "colab": {
     "base_uri": "https://localhost:8080/",
     "height": 335
    },
    "colab_type": "code",
    "executionInfo": {
     "elapsed": 882,
     "status": "ok",
     "timestamp": 1548374633783,
     "user": {
      "displayName": "柯逵悅",
      "photoUrl": "https://lh5.googleusercontent.com/-M0ECjlFPaa8/AAAAAAAAAAI/AAAAAAAAAkk/dheIQ4ShHHg/s64/photo.jpg",
      "userId": "07101215254269543390"
     },
     "user_tz": 300
    },
    "id": "ZZljmfuaT1if",
    "outputId": "e972b9c4-6b4e-4be1-f854-fda3c063e31c"
   },
   "outputs": [
    {
     "data": {
      "image/png": "[encoded data removed]",
      "text/plain": [
       "<Figure size 720x360 with 2 Axes>"
      ]
     },
     "metadata": {
      "tags": []
     },
     "output_type": "display_data"
    }
   ],
   "source": [
    "### init\n",
    "history = history04\n",
    "\n",
    "### get accuracy and loss along the iterations\n",
    "acc      = history.history['acc']\n",
    "val_acc  = history.history['val_acc']\n",
    "loss     = history.history['loss']\n",
    "val_loss = history.history['val_loss']\n",
    "epochs   = range(1, len(acc) + 1)\n",
    "\n",
    "### plot accuracy\n",
    "fig, axes = plt.subplots(ncols=2, nrows=1, figsize = (10, 5))\n",
    "ax = axes[0]\n",
    "ax.plot(epochs, acc,     'bo', c = \"red\", label='Training acc')\n",
    "ax.plot(epochs, val_acc, 'b',  c = \"red\", label='Validation acc')\n",
    "ax.set_title('Training and validation accuracy')\n",
    "\n",
    "ax = axes[1]\n",
    "ax.plot(epochs, loss,     'bo', c = \"blue\", label='Training loss')\n",
    "ax.plot(epochs, val_loss, 'b',  c = \"blue\", label='Validation loss')\n",
    "ax.set_title('Training and validation loss')\n",
    "ax.legend()\n",
    "\n",
    "plt.show()"
   ]
  },
  {
   "cell_type": "code",
   "execution_count": 0,
   "metadata": {
    "colab": {},
    "colab_type": "code",
    "id": "EmZzO2gKUeh9"
   },
   "outputs": [],
   "source": []
  }
 ],
 "metadata": {
  "accelerator": "GPU",
  "colab": {
   "collapsed_sections": [],
   "name": "mod01_hw02_cnn_mnist_overtrain.ipynb",
   "provenance": [],
   "version": "0.3.2"
  },
  "kernelspec": {
   "display_name": "Python 3",
   "language": "python",
   "name": "python3"
  },
  "language_info": {
   "codemirror_mode": {
    "name": "ipython",
    "version": 3
   },
   "file_extension": ".py",
   "mimetype": "text/x-python",
   "name": "python",
   "nbconvert_exporter": "python",
   "pygments_lexer": "ipython3",
   "version": "3.6.5"
  }
 },
 "nbformat": 4,
 "nbformat_minor": 1
}
